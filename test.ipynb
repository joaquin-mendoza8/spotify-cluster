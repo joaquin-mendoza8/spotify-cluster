{
 "cells": [
  {
   "cell_type": "code",
   "execution_count": 1,
   "metadata": {},
   "outputs": [
    {
     "name": "stderr",
     "output_type": "stream",
     "text": [
      "/Users/joaquinmendoza/Downloads/cs/class/cs-450/spotify-cluster/venv/lib/python3.13/site-packages/tqdm/auto.py:21: TqdmWarning: IProgress not found. Please update jupyter and ipywidgets. See https://ipywidgets.readthedocs.io/en/stable/user_install.html\n",
      "  from .autonotebook import tqdm as notebook_tqdm\n"
     ]
    }
   ],
   "source": [
    "from datasets import load_dataset\n",
    "import pandas as pd\n",
    "from matplotlib import pyplot as plt\n",
    "import seaborn as sns\n",
    "from sklearn.preprocessing import StandardScaler\n",
    "from sklearn.decomposition import PCA\n",
    "from sklearn.cluster import KMeans\n",
    "from sklearn.metrics import silhouette_score\n",
    "import requests"
   ]
  },
  {
   "cell_type": "markdown",
   "metadata": {},
   "source": [
    "## Fetch Dataset"
   ]
  },
  {
   "cell_type": "code",
   "execution_count": 2,
   "metadata": {},
   "outputs": [
    {
     "data": {
      "text/plain": [
       "[['acoustic'],\n",
       " ['afrobeat'],\n",
       " ['alt', 'rock'],\n",
       " ['alternative'],\n",
       " ['ambient'],\n",
       " ['anime'],\n",
       " ['black', 'metal'],\n",
       " ['bluegrass'],\n",
       " ['blues'],\n",
       " ['brazil'],\n",
       " ['breakbeat'],\n",
       " ['british'],\n",
       " ['cantopop'],\n",
       " ['chicago', 'house'],\n",
       " ['children'],\n",
       " ['chill'],\n",
       " ['classical'],\n",
       " ['club'],\n",
       " ['comedy'],\n",
       " ['country'],\n",
       " ['dance'],\n",
       " ['dancehall'],\n",
       " ['death', 'metal'],\n",
       " ['deep', 'house'],\n",
       " ['detroit', 'techno'],\n",
       " ['disco'],\n",
       " ['disney'],\n",
       " ['drum', 'and', 'bass'],\n",
       " ['dub'],\n",
       " ['dubstep'],\n",
       " ['edm'],\n",
       " ['electro'],\n",
       " ['electronic'],\n",
       " ['emo'],\n",
       " ['folk'],\n",
       " ['forro'],\n",
       " ['french'],\n",
       " ['funk'],\n",
       " ['garage'],\n",
       " ['german'],\n",
       " ['gospel'],\n",
       " ['goth'],\n",
       " ['grindcore'],\n",
       " ['groove'],\n",
       " ['grunge'],\n",
       " ['guitar'],\n",
       " ['happy'],\n",
       " ['hard', 'rock'],\n",
       " ['hardcore'],\n",
       " ['hardstyle'],\n",
       " ['heavy', 'metal'],\n",
       " ['hip', 'hop'],\n",
       " ['honky', 'tonk'],\n",
       " ['house'],\n",
       " ['idm'],\n",
       " ['indian'],\n",
       " ['indie', 'pop'],\n",
       " ['indie'],\n",
       " ['industrial'],\n",
       " ['iranian'],\n",
       " ['j', 'dance'],\n",
       " ['j', 'idol'],\n",
       " ['j', 'pop'],\n",
       " ['j', 'rock'],\n",
       " ['jazz'],\n",
       " ['k', 'pop'],\n",
       " ['kids'],\n",
       " ['latin'],\n",
       " ['latino'],\n",
       " ['malay'],\n",
       " ['mandopop'],\n",
       " ['metal'],\n",
       " ['metalcore'],\n",
       " ['minimal', 'techno'],\n",
       " ['mpb'],\n",
       " ['new', 'age'],\n",
       " ['opera'],\n",
       " ['pagode'],\n",
       " ['party'],\n",
       " ['piano'],\n",
       " ['pop', 'film'],\n",
       " ['pop'],\n",
       " ['power', 'pop'],\n",
       " ['progressive', 'house'],\n",
       " ['psych', 'rock'],\n",
       " ['punk', 'rock'],\n",
       " ['punk'],\n",
       " ['r', 'n', 'b'],\n",
       " ['reggae'],\n",
       " ['reggaeton'],\n",
       " ['rock', 'n', 'roll'],\n",
       " ['rock'],\n",
       " ['rockabilly'],\n",
       " ['romance'],\n",
       " ['sad'],\n",
       " ['salsa'],\n",
       " ['samba'],\n",
       " ['sertanejo'],\n",
       " ['show', 'tunes'],\n",
       " ['singer', 'songwriter'],\n",
       " ['ska'],\n",
       " ['sleep'],\n",
       " ['songwriter'],\n",
       " ['soul'],\n",
       " ['spanish'],\n",
       " ['study'],\n",
       " ['swedish'],\n",
       " ['synth', 'pop'],\n",
       " ['tango'],\n",
       " ['techno'],\n",
       " ['trance'],\n",
       " ['trip', 'hop'],\n",
       " ['turkish'],\n",
       " ['world', 'music']]"
      ]
     },
     "execution_count": 2,
     "metadata": {},
     "output_type": "execute_result"
    }
   ],
   "source": [
    "dataset_hf = load_dataset(\"maharshipandya/spotify-tracks-dataset\")\n",
    "# dataset = pd.read_csv('spotify-tracks-dataset.csv')\n",
    "\n",
    "# convert dataset to pandas dataframe\n",
    "dataset = pd.DataFrame(dataset_hf['train'])\n",
    "\n",
    "# copy the dataset\n",
    "data = dataset.copy()\n",
    "\n",
    "# get genres\n",
    "genres = data['track_genre'].unique()\n",
    "genres\n",
    "\n",
    "# format genres to be searchable by keywords\n",
    "genres_searchable = []\n",
    "\n",
    "for genre in genres:\n",
    "    if '-' in genre:\n",
    "        genres_searchable.append(genre.split('-'))\n",
    "    else:\n",
    "        genres_searchable.append([genre])\n",
    "genres_searchable\n",
    "        \n"
   ]
  },
  {
   "cell_type": "markdown",
   "metadata": {},
   "source": [
    "## Authenticate to Spotify API"
   ]
  },
  {
   "cell_type": "code",
   "execution_count": 3,
   "metadata": {},
   "outputs": [
    {
     "name": "stdout",
     "output_type": "stream",
     "text": [
      "  % Total    % Received % Xferd  Average Speed   Time    Time     Time  Current\n",
      "                                 Dload  Upload   Total   Spent    Left  Speed\n",
      "100   293  100   174  100   119    600    411 --:--:-- --:--:-- --:--:--  1013\n"
     ]
    }
   ],
   "source": [
    "# load environment variables from .env file\n",
    "from dotenv import load_dotenv\n",
    "import os\n",
    "load_dotenv()\n",
    "\n",
    "# auth spotify api\n",
    "client_id = os.getenv('SPOTIFY_CLIENT_ID')\n",
    "client_secret = os.getenv('SPOTIFY_CLIENT_SECRET')\n",
    "auth_cmd = f\"curl -X POST 'https://accounts.spotify.com/api/token' \\\n",
    "     -H 'Content-Type: application/x-www-form-urlencoded' \\\n",
    "     -d 'grant_type=client_credentials&client_id={client_id}&client_secret={client_secret}'\"\n",
    "\n",
    "! {auth_cmd} > token.json"
   ]
  },
  {
   "cell_type": "code",
   "execution_count": 4,
   "metadata": {},
   "outputs": [],
   "source": [
    "with open('token.json', 'r') as file:\n",
    "    token_json = file.read()\n",
    "    token = token_json.split('\"')[3]\n",
    "    token_type = token_json.split('\"')[7]"
   ]
  },
  {
   "cell_type": "markdown",
   "metadata": {},
   "source": [
    "## Define Track/Song (via API)"
   ]
  },
  {
   "cell_type": "code",
   "execution_count": 42,
   "metadata": {},
   "outputs": [],
   "source": [
    "# test track audio features\n",
    "track_id = '7xcqbjV2NfxlnJzqdRuO7E'\n",
    "aud_features_url = \"https://api.spotify.com/v1/audio-features/\"\n",
    "\n",
    "aud_features_json = requests.get(aud_features_url + track_id, headers={'Authorization': f'{token_type} {token}'}).json()"
   ]
  },
  {
   "cell_type": "code",
   "execution_count": 43,
   "metadata": {},
   "outputs": [
    {
     "data": {
      "text/plain": [
       "{'error': {'status': 401, 'message': 'Valid user authentication required'}}"
      ]
     },
     "execution_count": 43,
     "metadata": {},
     "output_type": "execute_result"
    }
   ],
   "source": [
    "# url to get user's saved tracks\n",
    "user_saved_tracks_url = 'https://api.spotify.com/v1/me/tracks'\n",
    "\n",
    "user_saved_tracks_json = requests.get(user_saved_tracks_url, headers={'Authorization': f'{token_type} {token}'}).json()\n",
    "user_saved_tracks_json"
   ]
  },
  {
   "cell_type": "code",
   "execution_count": 44,
   "metadata": {},
   "outputs": [
    {
     "data": {
      "text/plain": [
       "('Odd Look', 'Kavinsky, The Weeknd')"
      ]
     },
     "execution_count": 44,
     "metadata": {},
     "output_type": "execute_result"
    }
   ],
   "source": [
    "# test get track\n",
    "track_url = \"https://api.spotify.com/v1/tracks/\"\n",
    "\n",
    "# get track json data\n",
    "track_json = requests.get(track_url + track_id, headers={'Authorization': f'{token_type} {token}'}).json()\n",
    "\n",
    "# extract track artists and name\n",
    "track_artists_list = [artist['name'] for artist in track_json['artists']]\n",
    "track_artists_str = ', '.join(track_artists_list)\n",
    "track_name = track_json['name']\n",
    "artist_id = track_json['artists'][0]['id']\n",
    "track_name, track_artists_str"
   ]
  },
  {
   "cell_type": "markdown",
   "metadata": {},
   "source": [
    "## Fetch Track Artist's Genres"
   ]
  },
  {
   "cell_type": "code",
   "execution_count": 45,
   "metadata": {},
   "outputs": [
    {
     "name": "stdout",
     "output_type": "stream",
     "text": [
      "GENRES IN DATASET & ASSOCIATED W/ TRACK ARTIST: \n",
      "house\n"
     ]
    }
   ],
   "source": [
    "artist_url = \"https://api.spotify.com/v1/artists/\"\n",
    "\n",
    "# get album json data\n",
    "artist_json = requests.get(artist_url + artist_id, headers={'Authorization': f'{token_type} {token}'}).json()\n",
    "artist_genres = artist_json['genres']\n",
    "# artist_genres\n",
    "\n",
    "# combine genres into one string\n",
    "# artist_genres_str = ' '.join(artist_genres)\n",
    "# print(artist_genres_str)\n",
    "\n",
    "# separate words in artist genres\n",
    "artist_genres_words = [genre.split() for genre in artist_genres]\n",
    "\n",
    "# flatten list\n",
    "artist_genres_words = list(set([word for genre in artist_genres_words for word in genre]))\n",
    "\n",
    "artist_genres_words\n",
    "\n",
    "# print genres that are in the dataset\n",
    "genre_response = 'GENRES IN DATASET & ASSOCIATED W/ TRACK ARTIST: '\n",
    "for word in artist_genres_words:\n",
    "    if word in genres:\n",
    "        genre_response += '\\n' + word\n",
    "print(genre_response)"
   ]
  },
  {
   "cell_type": "markdown",
   "metadata": {},
   "source": [
    "## Drop & Move Columns"
   ]
  },
  {
   "cell_type": "code",
   "execution_count": 46,
   "metadata": {},
   "outputs": [
    {
     "data": {
      "text/html": [
       "<div>\n",
       "<style scoped>\n",
       "    .dataframe tbody tr th:only-of-type {\n",
       "        vertical-align: middle;\n",
       "    }\n",
       "\n",
       "    .dataframe tbody tr th {\n",
       "        vertical-align: top;\n",
       "    }\n",
       "\n",
       "    .dataframe thead th {\n",
       "        text-align: right;\n",
       "    }\n",
       "</style>\n",
       "<table border=\"1\" class=\"dataframe\">\n",
       "  <thead>\n",
       "    <tr style=\"text-align: right;\">\n",
       "      <th></th>\n",
       "      <th>track_name</th>\n",
       "      <th>artists</th>\n",
       "      <th>track_genre</th>\n",
       "      <th>track_id</th>\n",
       "      <th>popularity</th>\n",
       "      <th>danceability</th>\n",
       "      <th>energy</th>\n",
       "      <th>key</th>\n",
       "      <th>speechiness</th>\n",
       "      <th>acousticness</th>\n",
       "      <th>liveness</th>\n",
       "      <th>tempo</th>\n",
       "      <th>cluster</th>\n",
       "      <th>distance</th>\n",
       "    </tr>\n",
       "  </thead>\n",
       "  <tbody>\n",
       "    <tr>\n",
       "      <th>11053</th>\n",
       "      <td>Kiss from a Rose</td>\n",
       "      <td>Seal</td>\n",
       "      <td>british</td>\n",
       "      <td>3YKptz29AsOlm7WAVnztBh</td>\n",
       "      <td>1.982515</td>\n",
       "      <td>0.123574</td>\n",
       "      <td>-0.395388</td>\n",
       "      <td>1.324892</td>\n",
       "      <td>-0.502682</td>\n",
       "      <td>1.051407</td>\n",
       "      <td>0.456840</td>\n",
       "      <td>0.321631</td>\n",
       "      <td>0</td>\n",
       "      <td>0.001717</td>\n",
       "    </tr>\n",
       "    <tr>\n",
       "      <th>54154</th>\n",
       "      <td>isle of the blest</td>\n",
       "      <td>tstewart;Machinedrum</td>\n",
       "      <td>idm</td>\n",
       "      <td>3jW0pK6SS8vH2wKLjlBLBm</td>\n",
       "      <td>0.233304</td>\n",
       "      <td>-0.866860</td>\n",
       "      <td>-0.056343</td>\n",
       "      <td>1.605800</td>\n",
       "      <td>-0.477964</td>\n",
       "      <td>0.906574</td>\n",
       "      <td>-0.492446</td>\n",
       "      <td>0.596024</td>\n",
       "      <td>0</td>\n",
       "      <td>0.009649</td>\n",
       "    </tr>\n",
       "    <tr>\n",
       "      <th>56650</th>\n",
       "      <td>Hrs &amp; Hrs</td>\n",
       "      <td>Muni Long</td>\n",
       "      <td>indie-pop</td>\n",
       "      <td>3M5azWqeZbfoVkGXygatlb</td>\n",
       "      <td>2.128282</td>\n",
       "      <td>-0.221663</td>\n",
       "      <td>-0.442152</td>\n",
       "      <td>0.201257</td>\n",
       "      <td>0.631711</td>\n",
       "      <td>0.823811</td>\n",
       "      <td>-0.564284</td>\n",
       "      <td>0.394944</td>\n",
       "      <td>0</td>\n",
       "      <td>0.011405</td>\n",
       "    </tr>\n",
       "    <tr>\n",
       "      <th>84801</th>\n",
       "      <td>An American Prayer</td>\n",
       "      <td>Jim Morrison;The Doors</td>\n",
       "      <td>psych-rock</td>\n",
       "      <td>2VDkE9sdVpQAgEqH5fvTMV</td>\n",
       "      <td>0.573428</td>\n",
       "      <td>0.802729</td>\n",
       "      <td>-0.808476</td>\n",
       "      <td>0.482166</td>\n",
       "      <td>-0.236960</td>\n",
       "      <td>0.244476</td>\n",
       "      <td>0.082257</td>\n",
       "      <td>-0.387461</td>\n",
       "      <td>0</td>\n",
       "      <td>0.012702</td>\n",
       "    </tr>\n",
       "    <tr>\n",
       "      <th>97597</th>\n",
       "      <td>Um Degrau Na Escada</td>\n",
       "      <td>Chico Rey &amp; Paraná</td>\n",
       "      <td>sertanejo</td>\n",
       "      <td>5Pn6spaFtc1kEk2HI86SaW</td>\n",
       "      <td>0.573428</td>\n",
       "      <td>-0.012257</td>\n",
       "      <td>-0.130387</td>\n",
       "      <td>-0.360560</td>\n",
       "      <td>-0.543291</td>\n",
       "      <td>0.906574</td>\n",
       "      <td>-0.107600</td>\n",
       "      <td>0.404142</td>\n",
       "      <td>0</td>\n",
       "      <td>0.016436</td>\n",
       "    </tr>\n",
       "  </tbody>\n",
       "</table>\n",
       "</div>"
      ],
      "text/plain": [
       "                track_name                 artists track_genre  \\\n",
       "11053     Kiss from a Rose                    Seal     british   \n",
       "54154    isle of the blest    tstewart;Machinedrum         idm   \n",
       "56650            Hrs & Hrs               Muni Long   indie-pop   \n",
       "84801   An American Prayer  Jim Morrison;The Doors  psych-rock   \n",
       "97597  Um Degrau Na Escada      Chico Rey & Paraná   sertanejo   \n",
       "\n",
       "                     track_id  popularity  danceability    energy       key  \\\n",
       "11053  3YKptz29AsOlm7WAVnztBh    1.982515      0.123574 -0.395388  1.324892   \n",
       "54154  3jW0pK6SS8vH2wKLjlBLBm    0.233304     -0.866860 -0.056343  1.605800   \n",
       "56650  3M5azWqeZbfoVkGXygatlb    2.128282     -0.221663 -0.442152  0.201257   \n",
       "84801  2VDkE9sdVpQAgEqH5fvTMV    0.573428      0.802729 -0.808476  0.482166   \n",
       "97597  5Pn6spaFtc1kEk2HI86SaW    0.573428     -0.012257 -0.130387 -0.360560   \n",
       "\n",
       "       speechiness  acousticness  liveness     tempo  cluster  distance  \n",
       "11053    -0.502682      1.051407  0.456840  0.321631        0  0.001717  \n",
       "54154    -0.477964      0.906574 -0.492446  0.596024        0  0.009649  \n",
       "56650     0.631711      0.823811 -0.564284  0.394944        0  0.011405  \n",
       "84801    -0.236960      0.244476  0.082257 -0.387461        0  0.012702  \n",
       "97597    -0.543291      0.906574 -0.107600  0.404142        0  0.016436  "
      ]
     },
     "execution_count": 46,
     "metadata": {},
     "output_type": "execute_result"
    }
   ],
   "source": [
    "# unnecessary columns\n",
    "cols_to_drop = ['Unnamed: 0', 'album_name',\n",
    "                'loudness', 'explicit', 'time_signature',\n",
    "                'instrumentalness', 'duration_ms', 'mode', 'valence']\n",
    "\n",
    "# dataset.drop(cols_to_drop, axis=1, inplace=True)\n",
    "\n",
    "# drop duplicates (tracks with the same track_id)\n",
    "# keep the first occurrence\n",
    "dataset.drop_duplicates(subset='track_id', keep='first', inplace=True)\n",
    "\n",
    "# move track_name to the first column\n",
    "track_name_col = dataset['track_name']\n",
    "dataset.drop(labels=['track_name'], axis=1, inplace=True)\n",
    "dataset.insert(0, 'track_name', track_name_col)\n",
    "\n",
    "# move artist_name to the second column\n",
    "artist_name_col = dataset['artists']\n",
    "dataset.drop(labels=['artists'], axis=1, inplace=True)\n",
    "dataset.insert(1, 'artists', artist_name_col)\n",
    "\n",
    "# move genre to the third column\n",
    "genre_col = dataset['track_genre']\n",
    "dataset.drop(labels=['track_genre'], axis=1, inplace=True)\n",
    "dataset.insert(2, 'track_genre', genre_col)\n",
    "\n",
    "# move track_id to the 2nd column\n",
    "track_id_col = dataset['track_id']\n",
    "dataset.drop(labels=['track_id'], axis=1, inplace=True)\n",
    "dataset.insert(3, 'track_id', track_id_col)\n",
    "\n",
    "# print first 5 rows\n",
    "dataset.head()"
   ]
  },
  {
   "cell_type": "markdown",
   "metadata": {},
   "source": [
    "## Scale Features"
   ]
  },
  {
   "cell_type": "code",
   "execution_count": 47,
   "metadata": {},
   "outputs": [
    {
     "name": "stderr",
     "output_type": "stream",
     "text": [
      "/var/folders/b6/6366288j429498w43rvsw48w0000gn/T/ipykernel_30862/61435344.py:8: FutureWarning: Setting an item of incompatible dtype is deprecated and will raise in a future error of pandas. Value '[-1.07599242 -1.07599242 -1.07599242 ...  1.92646823  1.92646823\n",
      "  1.92646823]' has dtype incompatible with int32, please explicitly cast to a compatible dtype first.\n",
      "  dataset.iloc[:, 4:] = scaler.fit_transform(dataset.iloc[:, 4:])\n"
     ]
    }
   ],
   "source": [
    "# feature scale the data (except first column)\n",
    "scaler = StandardScaler()\n",
    "\n",
    "# turn data into float type\n",
    "dataset.iloc[:, 4:] = dataset.iloc[:, 4:].values.astype(float)\n",
    "\n",
    "# feature scale the data (except label-encoded data)\n",
    "dataset.iloc[:, 4:] = scaler.fit_transform(dataset.iloc[:, 4:])"
   ]
  },
  {
   "cell_type": "code",
   "execution_count": null,
   "metadata": {},
   "outputs": [
    {
     "ename": "ValueError",
     "evalue": "could not convert string to float: 'Jairo Vera'",
     "output_type": "error",
     "traceback": [
      "\u001b[0;31m---------------------------------------------------------------------------\u001b[0m",
      "\u001b[0;31mValueError\u001b[0m                                Traceback (most recent call last)",
      "Cell \u001b[0;32mIn[65], line 3\u001b[0m\n\u001b[1;32m      1\u001b[0m \u001b[38;5;66;03m# create heatmap\u001b[39;00m\n\u001b[1;32m      2\u001b[0m plt\u001b[38;5;241m.\u001b[39mfigure(figsize \u001b[38;5;241m=\u001b[39m (\u001b[38;5;241m10\u001b[39m, \u001b[38;5;241m10\u001b[39m))\n\u001b[0;32m----> 3\u001b[0m sns\u001b[38;5;241m.\u001b[39mheatmap(\u001b[43mdataset\u001b[49m\u001b[38;5;241;43m.\u001b[39;49m\u001b[43miloc\u001b[49m\u001b[43m[\u001b[49m\u001b[43m:\u001b[49m\u001b[43m,\u001b[49m\u001b[43m \u001b[49m\u001b[38;5;241;43m1\u001b[39;49m\u001b[43m:\u001b[49m\u001b[43m]\u001b[49m\u001b[38;5;241;43m.\u001b[39;49m\u001b[43mcorr\u001b[49m\u001b[43m(\u001b[49m\u001b[43m)\u001b[49m, annot \u001b[38;5;241m=\u001b[39m \u001b[38;5;28;01mTrue\u001b[39;00m, cmap \u001b[38;5;241m=\u001b[39m \u001b[38;5;124m'\u001b[39m\u001b[38;5;124mcoolwarm\u001b[39m\u001b[38;5;124m'\u001b[39m, linewidths \u001b[38;5;241m=\u001b[39m \u001b[38;5;241m0.5\u001b[39m)\n\u001b[1;32m      4\u001b[0m plt\u001b[38;5;241m.\u001b[39mshow()\n\u001b[1;32m      6\u001b[0m \u001b[38;5;66;03m# histogram\u001b[39;00m\n",
      "File \u001b[0;32m~/Downloads/cs/class/cs-450/spotify-cluster/venv/lib/python3.13/site-packages/pandas/core/frame.py:11049\u001b[0m, in \u001b[0;36mDataFrame.corr\u001b[0;34m(self, method, min_periods, numeric_only)\u001b[0m\n\u001b[1;32m  11047\u001b[0m cols \u001b[38;5;241m=\u001b[39m data\u001b[38;5;241m.\u001b[39mcolumns\n\u001b[1;32m  11048\u001b[0m idx \u001b[38;5;241m=\u001b[39m cols\u001b[38;5;241m.\u001b[39mcopy()\n\u001b[0;32m> 11049\u001b[0m mat \u001b[38;5;241m=\u001b[39m \u001b[43mdata\u001b[49m\u001b[38;5;241;43m.\u001b[39;49m\u001b[43mto_numpy\u001b[49m\u001b[43m(\u001b[49m\u001b[43mdtype\u001b[49m\u001b[38;5;241;43m=\u001b[39;49m\u001b[38;5;28;43mfloat\u001b[39;49m\u001b[43m,\u001b[49m\u001b[43m \u001b[49m\u001b[43mna_value\u001b[49m\u001b[38;5;241;43m=\u001b[39;49m\u001b[43mnp\u001b[49m\u001b[38;5;241;43m.\u001b[39;49m\u001b[43mnan\u001b[49m\u001b[43m,\u001b[49m\u001b[43m \u001b[49m\u001b[43mcopy\u001b[49m\u001b[38;5;241;43m=\u001b[39;49m\u001b[38;5;28;43;01mFalse\u001b[39;49;00m\u001b[43m)\u001b[49m\n\u001b[1;32m  11051\u001b[0m \u001b[38;5;28;01mif\u001b[39;00m method \u001b[38;5;241m==\u001b[39m \u001b[38;5;124m\"\u001b[39m\u001b[38;5;124mpearson\u001b[39m\u001b[38;5;124m\"\u001b[39m:\n\u001b[1;32m  11052\u001b[0m     correl \u001b[38;5;241m=\u001b[39m libalgos\u001b[38;5;241m.\u001b[39mnancorr(mat, minp\u001b[38;5;241m=\u001b[39mmin_periods)\n",
      "File \u001b[0;32m~/Downloads/cs/class/cs-450/spotify-cluster/venv/lib/python3.13/site-packages/pandas/core/frame.py:1993\u001b[0m, in \u001b[0;36mDataFrame.to_numpy\u001b[0;34m(self, dtype, copy, na_value)\u001b[0m\n\u001b[1;32m   1991\u001b[0m \u001b[38;5;28;01mif\u001b[39;00m dtype \u001b[38;5;129;01mis\u001b[39;00m \u001b[38;5;129;01mnot\u001b[39;00m \u001b[38;5;28;01mNone\u001b[39;00m:\n\u001b[1;32m   1992\u001b[0m     dtype \u001b[38;5;241m=\u001b[39m np\u001b[38;5;241m.\u001b[39mdtype(dtype)\n\u001b[0;32m-> 1993\u001b[0m result \u001b[38;5;241m=\u001b[39m \u001b[38;5;28;43mself\u001b[39;49m\u001b[38;5;241;43m.\u001b[39;49m\u001b[43m_mgr\u001b[49m\u001b[38;5;241;43m.\u001b[39;49m\u001b[43mas_array\u001b[49m\u001b[43m(\u001b[49m\u001b[43mdtype\u001b[49m\u001b[38;5;241;43m=\u001b[39;49m\u001b[43mdtype\u001b[49m\u001b[43m,\u001b[49m\u001b[43m \u001b[49m\u001b[43mcopy\u001b[49m\u001b[38;5;241;43m=\u001b[39;49m\u001b[43mcopy\u001b[49m\u001b[43m,\u001b[49m\u001b[43m \u001b[49m\u001b[43mna_value\u001b[49m\u001b[38;5;241;43m=\u001b[39;49m\u001b[43mna_value\u001b[49m\u001b[43m)\u001b[49m\n\u001b[1;32m   1994\u001b[0m \u001b[38;5;28;01mif\u001b[39;00m result\u001b[38;5;241m.\u001b[39mdtype \u001b[38;5;129;01mis\u001b[39;00m \u001b[38;5;129;01mnot\u001b[39;00m dtype:\n\u001b[1;32m   1995\u001b[0m     result \u001b[38;5;241m=\u001b[39m np\u001b[38;5;241m.\u001b[39masarray(result, dtype\u001b[38;5;241m=\u001b[39mdtype)\n",
      "File \u001b[0;32m~/Downloads/cs/class/cs-450/spotify-cluster/venv/lib/python3.13/site-packages/pandas/core/internals/managers.py:1694\u001b[0m, in \u001b[0;36mBlockManager.as_array\u001b[0;34m(self, dtype, copy, na_value)\u001b[0m\n\u001b[1;32m   1692\u001b[0m         arr\u001b[38;5;241m.\u001b[39mflags\u001b[38;5;241m.\u001b[39mwriteable \u001b[38;5;241m=\u001b[39m \u001b[38;5;28;01mFalse\u001b[39;00m\n\u001b[1;32m   1693\u001b[0m \u001b[38;5;28;01melse\u001b[39;00m:\n\u001b[0;32m-> 1694\u001b[0m     arr \u001b[38;5;241m=\u001b[39m \u001b[38;5;28;43mself\u001b[39;49m\u001b[38;5;241;43m.\u001b[39;49m\u001b[43m_interleave\u001b[49m\u001b[43m(\u001b[49m\u001b[43mdtype\u001b[49m\u001b[38;5;241;43m=\u001b[39;49m\u001b[43mdtype\u001b[49m\u001b[43m,\u001b[49m\u001b[43m \u001b[49m\u001b[43mna_value\u001b[49m\u001b[38;5;241;43m=\u001b[39;49m\u001b[43mna_value\u001b[49m\u001b[43m)\u001b[49m\n\u001b[1;32m   1695\u001b[0m     \u001b[38;5;66;03m# The underlying data was copied within _interleave, so no need\u001b[39;00m\n\u001b[1;32m   1696\u001b[0m     \u001b[38;5;66;03m# to further copy if copy=True or setting na_value\u001b[39;00m\n\u001b[1;32m   1698\u001b[0m \u001b[38;5;28;01mif\u001b[39;00m na_value \u001b[38;5;129;01mis\u001b[39;00m lib\u001b[38;5;241m.\u001b[39mno_default:\n",
      "File \u001b[0;32m~/Downloads/cs/class/cs-450/spotify-cluster/venv/lib/python3.13/site-packages/pandas/core/internals/managers.py:1753\u001b[0m, in \u001b[0;36mBlockManager._interleave\u001b[0;34m(self, dtype, na_value)\u001b[0m\n\u001b[1;32m   1751\u001b[0m     \u001b[38;5;28;01melse\u001b[39;00m:\n\u001b[1;32m   1752\u001b[0m         arr \u001b[38;5;241m=\u001b[39m blk\u001b[38;5;241m.\u001b[39mget_values(dtype)\n\u001b[0;32m-> 1753\u001b[0m     \u001b[43mresult\u001b[49m\u001b[43m[\u001b[49m\u001b[43mrl\u001b[49m\u001b[38;5;241;43m.\u001b[39;49m\u001b[43mindexer\u001b[49m\u001b[43m]\u001b[49m \u001b[38;5;241m=\u001b[39m arr\n\u001b[1;32m   1754\u001b[0m     itemmask[rl\u001b[38;5;241m.\u001b[39mindexer] \u001b[38;5;241m=\u001b[39m \u001b[38;5;241m1\u001b[39m\n\u001b[1;32m   1756\u001b[0m \u001b[38;5;28;01mif\u001b[39;00m \u001b[38;5;129;01mnot\u001b[39;00m itemmask\u001b[38;5;241m.\u001b[39mall():\n",
      "\u001b[0;31mValueError\u001b[0m: could not convert string to float: 'Jairo Vera'"
     ]
    },
    {
     "data": {
      "text/plain": [
       "<Figure size 1000x1000 with 0 Axes>"
      ]
     },
     "metadata": {},
     "output_type": "display_data"
    }
   ],
   "source": [
    "# # create heatmap\n",
    "# plt.figure(figsize = (10, 10))\n",
    "# sns.heatmap(dataset.iloc[:, 1:].corr(), annot = True, cmap = 'coolwarm', linewidths = 0.5)\n",
    "# plt.show()\n",
    "\n",
    "# # histogram\n",
    "# dataset.hist(figsize=(12, 8), bins=20)\n",
    "# plt.tight_layout()\n",
    "# plt.show()"
   ]
  },
  {
   "cell_type": "markdown",
   "metadata": {},
   "source": [
    "## Dimensionality Reduction (PCA)"
   ]
  },
  {
   "cell_type": "code",
   "execution_count": 49,
   "metadata": {},
   "outputs": [
    {
     "name": "stdout",
     "output_type": "stream",
     "text": [
      "Features to include in PCA:\n",
      " Index(['popularity', 'danceability', 'energy', 'key', 'speechiness',\n",
      "       'acousticness', 'liveness', 'tempo', 'cluster', 'distance'],\n",
      "      dtype='object')\n"
     ]
    }
   ],
   "source": [
    "# run pca to reduce the number of features to 2\n",
    "pca = PCA(n_components=2)\n",
    "data_pca = pca.fit_transform(dataset.iloc[:, 4:])\n",
    "\n",
    "# print columns in PCA\n",
    "feature_names = dataset.columns[4:]\n",
    "print('Features to include in PCA:\\n', feature_names)"
   ]
  },
  {
   "cell_type": "code",
   "execution_count": 50,
   "metadata": {},
   "outputs": [],
   "source": [
    "# run t-SNE to reduce the number of features to 2\n",
    "# from sklearn.manifold import TSNE\n",
    "\n",
    "# tsne = TSNE(n_components=2, random_state=42)\n",
    "# data_pca = tsne.fit_transform(dataset.iloc[:, 3:])"
   ]
  },
  {
   "cell_type": "markdown",
   "metadata": {},
   "source": [
    "## Fit K-Means to Data"
   ]
  },
  {
   "cell_type": "code",
   "execution_count": 51,
   "metadata": {},
   "outputs": [],
   "source": [
    "# create kmeans++ model\n",
    "kmeans = KMeans(n_clusters=5, init='k-means++', max_iter=300, n_init='auto', random_state=0)\n",
    "pred_y = kmeans.fit_predict(data_pca)"
   ]
  },
  {
   "cell_type": "markdown",
   "metadata": {},
   "source": [
    "## Perform Elbow-Method for Optimal k"
   ]
  },
  {
   "cell_type": "code",
   "execution_count": 52,
   "metadata": {},
   "outputs": [
    {
     "name": "stdout",
     "output_type": "stream",
     "text": [
      "[368282.1238391494, 189573.23648723087, 110007.65170478227, 72381.24117520047, 63986.7284186176, 49938.30026694455, 44024.63341881779, 40562.1093906874, 35070.07714778926, 31012.94619965153, 28658.79112002014, 25818.27949576405]\n"
     ]
    }
   ],
   "source": [
    "# range of k values to test\n",
    "k_vals = range(1, 13)\n",
    "\n",
    "# list to store within-cluster sum of squares (wcss) values for each k\n",
    "wcss_vals = []\n",
    "\n",
    "# compute wcss for each k\n",
    "for k in k_vals:\n",
    "    # init kmeans w/ k clusters\n",
    "    kmeans_test = KMeans(n_clusters=k, init='k-means++', random_state=0)\n",
    "    kmeans_test.fit(data_pca)\n",
    "\n",
    "    # append wcss to list\n",
    "    wcss_vals.append(kmeans_test.inertia_)\n",
    "\n",
    "print(wcss_vals)"
   ]
  },
  {
   "cell_type": "code",
   "execution_count": 53,
   "metadata": {},
   "outputs": [
    {
     "data": {
      "image/png": "[encoded data removed]",
      "text/plain": [
       "<Figure size 640x480 with 1 Axes>"
      ]
     },
     "metadata": {},
     "output_type": "display_data"
    }
   ],
   "source": [
    "plt.plot(k_vals, wcss_vals, marker='o')\n",
    "plt.title('Elbow Method for Optimal k')\n",
    "plt.xlabel('Number of clusters (k)')\n",
    "plt.ylabel('Within-cluster sum of squares (WCSS)')\n",
    "plt.xticks\n",
    "plt.grid(True)\n",
    "plt.show()"
   ]
  },
  {
   "cell_type": "code",
   "execution_count": 54,
   "metadata": {},
   "outputs": [],
   "source": [
    "# print the silhouette score\n",
    "# print(silhouette_score(data_pca, pred_y))"
   ]
  },
  {
   "cell_type": "code",
   "execution_count": 55,
   "metadata": {},
   "outputs": [
    {
     "data": {
      "image/png": "[encoded data removed]",
      "text/plain": [
       "<Figure size 640x480 with 1 Axes>"
      ]
     },
     "metadata": {},
     "output_type": "display_data"
    }
   ],
   "source": [
    "# plot the clusters\n",
    "plt.scatter(data_pca[pred_y == 0, 0], data_pca[pred_y == 0, 1], s=100, c='red', label='Cluster 0')\n",
    "plt.scatter(data_pca[pred_y == 1, 0], data_pca[pred_y == 1, 1], s=100, c='blue', label='Cluster 1')\n",
    "plt.scatter(data_pca[pred_y == 2, 0], data_pca[pred_y == 2, 1], s=100, c='green', label='Cluster 2')\n",
    "plt.scatter(data_pca[pred_y == 3, 0], data_pca[pred_y == 3, 1], s=100, c='cyan', label='Cluster 3')\n",
    "plt.scatter(data_pca[pred_y == 4, 0], data_pca[pred_y == 4, 1], s=100, c='magenta', label='Cluster 4')\n",
    "plt.scatter(kmeans.cluster_centers_[:, 0], kmeans.cluster_centers_[:, 1], s=300, c='yellow', label='Centroids', marker='x')\n",
    "plt.title('Clusters of songs')\n",
    "plt.xlabel('PCA1')\n",
    "plt.ylabel('PCA2')\n",
    "plt.legend()\n",
    "plt.show()"
   ]
  },
  {
   "cell_type": "code",
   "execution_count": 56,
   "metadata": {},
   "outputs": [],
   "source": [
    "# histogram\n",
    "# playlist_0.hist(figsize=(12, 8), bins=20)\n",
    "# plt.tight_layout()\n",
    "# plt.show()"
   ]
  },
  {
   "cell_type": "markdown",
   "metadata": {},
   "source": [
    "## Sort Dataset by Cluster & Distance-to-Cluster"
   ]
  },
  {
   "cell_type": "code",
   "execution_count": 57,
   "metadata": {},
   "outputs": [
    {
     "data": {
      "text/html": [
       "<div>\n",
       "<style scoped>\n",
       "    .dataframe tbody tr th:only-of-type {\n",
       "        vertical-align: middle;\n",
       "    }\n",
       "\n",
       "    .dataframe tbody tr th {\n",
       "        vertical-align: top;\n",
       "    }\n",
       "\n",
       "    .dataframe thead th {\n",
       "        text-align: right;\n",
       "    }\n",
       "</style>\n",
       "<table border=\"1\" class=\"dataframe\">\n",
       "  <thead>\n",
       "    <tr style=\"text-align: right;\">\n",
       "      <th></th>\n",
       "      <th>track_name</th>\n",
       "      <th>artists</th>\n",
       "      <th>track_genre</th>\n",
       "      <th>track_id</th>\n",
       "      <th>popularity</th>\n",
       "      <th>danceability</th>\n",
       "      <th>energy</th>\n",
       "      <th>key</th>\n",
       "      <th>speechiness</th>\n",
       "      <th>acousticness</th>\n",
       "      <th>liveness</th>\n",
       "      <th>tempo</th>\n",
       "      <th>cluster</th>\n",
       "      <th>distance</th>\n",
       "    </tr>\n",
       "  </thead>\n",
       "  <tbody>\n",
       "    <tr>\n",
       "      <th>68789</th>\n",
       "      <td>Se Canso</td>\n",
       "      <td>Jairo Vera</td>\n",
       "      <td>latino</td>\n",
       "      <td>5F1KlBhTmtwHY0qItKsEEg</td>\n",
       "      <td>0.476250</td>\n",
       "      <td>0.898943</td>\n",
       "      <td>-0.504505</td>\n",
       "      <td>0.763074</td>\n",
       "      <td>-0.317295</td>\n",
       "      <td>-0.621570</td>\n",
       "      <td>0.164357</td>\n",
       "      <td>-1.162330</td>\n",
       "      <td>0</td>\n",
       "      <td>0.003042</td>\n",
       "    </tr>\n",
       "    <tr>\n",
       "      <th>75943</th>\n",
       "      <td>Earth Moving</td>\n",
       "      <td>Mike Oldfield</td>\n",
       "      <td>new-age</td>\n",
       "      <td>7pAC4gwEpzuJh2O5JuCWtx</td>\n",
       "      <td>-0.544123</td>\n",
       "      <td>-0.074513</td>\n",
       "      <td>-0.114799</td>\n",
       "      <td>-0.079651</td>\n",
       "      <td>-0.408223</td>\n",
       "      <td>-0.606791</td>\n",
       "      <td>-0.482184</td>\n",
       "      <td>-0.332742</td>\n",
       "      <td>0</td>\n",
       "      <td>0.003762</td>\n",
       "    </tr>\n",
       "    <tr>\n",
       "      <th>103409</th>\n",
       "      <td>Stars Align</td>\n",
       "      <td>Majid Jordan;Drake</td>\n",
       "      <td>soul</td>\n",
       "      <td>5wotkXx3JK1MV82LRLAuD7</td>\n",
       "      <td>-1.613085</td>\n",
       "      <td>1.136647</td>\n",
       "      <td>0.126819</td>\n",
       "      <td>-0.922377</td>\n",
       "      <td>-0.021558</td>\n",
       "      <td>-0.908282</td>\n",
       "      <td>-0.746444</td>\n",
       "      <td>-0.869741</td>\n",
       "      <td>0</td>\n",
       "      <td>0.005388</td>\n",
       "    </tr>\n",
       "    <tr>\n",
       "      <th>103412</th>\n",
       "      <td>Stars Align</td>\n",
       "      <td>Majid Jordan;Drake</td>\n",
       "      <td>soul</td>\n",
       "      <td>5mzBmLtKjvf5Vokv9JUq0G</td>\n",
       "      <td>-1.613085</td>\n",
       "      <td>1.136647</td>\n",
       "      <td>0.126819</td>\n",
       "      <td>-0.922377</td>\n",
       "      <td>-0.021558</td>\n",
       "      <td>-0.908282</td>\n",
       "      <td>-0.746444</td>\n",
       "      <td>-0.869741</td>\n",
       "      <td>0</td>\n",
       "      <td>0.005388</td>\n",
       "    </tr>\n",
       "    <tr>\n",
       "      <th>30669</th>\n",
       "      <td>Paas Aa</td>\n",
       "      <td>Zaeden;AAKASH</td>\n",
       "      <td>edm</td>\n",
       "      <td>5w3XfCH3rL6oLv4Ahfp323</td>\n",
       "      <td>0.573428</td>\n",
       "      <td>0.808389</td>\n",
       "      <td>-0.009579</td>\n",
       "      <td>1.605800</td>\n",
       "      <td>-0.487674</td>\n",
       "      <td>-0.098395</td>\n",
       "      <td>-0.230751</td>\n",
       "      <td>-0.900355</td>\n",
       "      <td>0</td>\n",
       "      <td>0.007638</td>\n",
       "    </tr>\n",
       "    <tr>\n",
       "      <th>73534</th>\n",
       "      <td>Harmageddon - Original Mix</td>\n",
       "      <td>Green Velvet</td>\n",
       "      <td>minimal-techno</td>\n",
       "      <td>5mwkHxbdWcUVHWxp3cEqvy</td>\n",
       "      <td>-0.592712</td>\n",
       "      <td>1.793163</td>\n",
       "      <td>-1.338477</td>\n",
       "      <td>0.763074</td>\n",
       "      <td>-0.327006</td>\n",
       "      <td>-0.906804</td>\n",
       "      <td>-0.477052</td>\n",
       "      <td>0.230123</td>\n",
       "      <td>0</td>\n",
       "      <td>0.008294</td>\n",
       "    </tr>\n",
       "    <tr>\n",
       "      <th>80374</th>\n",
       "      <td>Champagne</td>\n",
       "      <td>Diljit Dosanjh</td>\n",
       "      <td>pop-film</td>\n",
       "      <td>7fYE7BT9Na8XpALQwuhIwX</td>\n",
       "      <td>1.399445</td>\n",
       "      <td>1.102689</td>\n",
       "      <td>-0.181049</td>\n",
       "      <td>1.324892</td>\n",
       "      <td>0.287420</td>\n",
       "      <td>-0.225494</td>\n",
       "      <td>-0.753628</td>\n",
       "      <td>-1.231526</td>\n",
       "      <td>0</td>\n",
       "      <td>0.008799</td>\n",
       "    </tr>\n",
       "    <tr>\n",
       "      <th>86813</th>\n",
       "      <td>Pasajera en Trance</td>\n",
       "      <td>Charly García;Pedro Aznar</td>\n",
       "      <td>punk</td>\n",
       "      <td>68Pz2XleHmce26jXoP03RG</td>\n",
       "      <td>0.281893</td>\n",
       "      <td>0.457492</td>\n",
       "      <td>0.037186</td>\n",
       "      <td>-1.484194</td>\n",
       "      <td>-0.496502</td>\n",
       "      <td>-0.779409</td>\n",
       "      <td>-0.947590</td>\n",
       "      <td>-0.786534</td>\n",
       "      <td>0</td>\n",
       "      <td>0.008943</td>\n",
       "    </tr>\n",
       "    <tr>\n",
       "      <th>19463</th>\n",
       "      <td>Feel Like This</td>\n",
       "      <td>Ingrid Andress</td>\n",
       "      <td>country</td>\n",
       "      <td>2audluGyqhja0vfNTsyisW</td>\n",
       "      <td>-1.613085</td>\n",
       "      <td>-0.148088</td>\n",
       "      <td>-0.114799</td>\n",
       "      <td>0.482166</td>\n",
       "      <td>-0.473550</td>\n",
       "      <td>-0.553587</td>\n",
       "      <td>-0.798270</td>\n",
       "      <td>0.265451</td>\n",
       "      <td>0</td>\n",
       "      <td>0.010009</td>\n",
       "    </tr>\n",
       "    <tr>\n",
       "      <th>19465</th>\n",
       "      <td>Feel Like This</td>\n",
       "      <td>Ingrid Andress</td>\n",
       "      <td>country</td>\n",
       "      <td>44k0lbFIwMyr2mHiQPxgOu</td>\n",
       "      <td>-1.613085</td>\n",
       "      <td>-0.148088</td>\n",
       "      <td>-0.114799</td>\n",
       "      <td>0.482166</td>\n",
       "      <td>-0.473550</td>\n",
       "      <td>-0.553587</td>\n",
       "      <td>-0.798270</td>\n",
       "      <td>0.265451</td>\n",
       "      <td>0</td>\n",
       "      <td>0.010009</td>\n",
       "    </tr>\n",
       "  </tbody>\n",
       "</table>\n",
       "</div>"
      ],
      "text/plain": [
       "                        track_name                    artists     track_genre  \\\n",
       "68789                     Se Canso                 Jairo Vera          latino   \n",
       "75943                 Earth Moving              Mike Oldfield         new-age   \n",
       "103409                 Stars Align         Majid Jordan;Drake            soul   \n",
       "103412                 Stars Align         Majid Jordan;Drake            soul   \n",
       "30669                      Paas Aa              Zaeden;AAKASH             edm   \n",
       "73534   Harmageddon - Original Mix               Green Velvet  minimal-techno   \n",
       "80374                    Champagne             Diljit Dosanjh        pop-film   \n",
       "86813           Pasajera en Trance  Charly García;Pedro Aznar            punk   \n",
       "19463               Feel Like This             Ingrid Andress         country   \n",
       "19465               Feel Like This             Ingrid Andress         country   \n",
       "\n",
       "                      track_id  popularity  danceability    energy       key  \\\n",
       "68789   5F1KlBhTmtwHY0qItKsEEg    0.476250      0.898943 -0.504505  0.763074   \n",
       "75943   7pAC4gwEpzuJh2O5JuCWtx   -0.544123     -0.074513 -0.114799 -0.079651   \n",
       "103409  5wotkXx3JK1MV82LRLAuD7   -1.613085      1.136647  0.126819 -0.922377   \n",
       "103412  5mzBmLtKjvf5Vokv9JUq0G   -1.613085      1.136647  0.126819 -0.922377   \n",
       "30669   5w3XfCH3rL6oLv4Ahfp323    0.573428      0.808389 -0.009579  1.605800   \n",
       "73534   5mwkHxbdWcUVHWxp3cEqvy   -0.592712      1.793163 -1.338477  0.763074   \n",
       "80374   7fYE7BT9Na8XpALQwuhIwX    1.399445      1.102689 -0.181049  1.324892   \n",
       "86813   68Pz2XleHmce26jXoP03RG    0.281893      0.457492  0.037186 -1.484194   \n",
       "19463   2audluGyqhja0vfNTsyisW   -1.613085     -0.148088 -0.114799  0.482166   \n",
       "19465   44k0lbFIwMyr2mHiQPxgOu   -1.613085     -0.148088 -0.114799  0.482166   \n",
       "\n",
       "        speechiness  acousticness  liveness     tempo  cluster  distance  \n",
       "68789     -0.317295     -0.621570  0.164357 -1.162330        0  0.003042  \n",
       "75943     -0.408223     -0.606791 -0.482184 -0.332742        0  0.003762  \n",
       "103409    -0.021558     -0.908282 -0.746444 -0.869741        0  0.005388  \n",
       "103412    -0.021558     -0.908282 -0.746444 -0.869741        0  0.005388  \n",
       "30669     -0.487674     -0.098395 -0.230751 -0.900355        0  0.007638  \n",
       "73534     -0.327006     -0.906804 -0.477052  0.230123        0  0.008294  \n",
       "80374      0.287420     -0.225494 -0.753628 -1.231526        0  0.008799  \n",
       "86813     -0.496502     -0.779409 -0.947590 -0.786534        0  0.008943  \n",
       "19463     -0.473550     -0.553587 -0.798270  0.265451        0  0.010009  \n",
       "19465     -0.473550     -0.553587 -0.798270  0.265451        0  0.010009  "
      ]
     },
     "execution_count": 57,
     "metadata": {},
     "output_type": "execute_result"
    }
   ],
   "source": [
    "# add a column to the dataset for the cluster number and distance from the centroid\n",
    "dataset['cluster'] = pred_y\n",
    "dataset['distance'] = kmeans.fit_transform(data_pca).min(axis=1)\n",
    "\n",
    "# sort the dataset by cluster and distance\n",
    "dataset = dataset.sort_values(by=['cluster', 'distance'])\n",
    "\n",
    "# print the first 10 rows\n",
    "dataset.head(10)"
   ]
  },
  {
   "cell_type": "markdown",
   "metadata": {},
   "source": [
    "# Song Recommendations"
   ]
  },
  {
   "cell_type": "code",
   "execution_count": 58,
   "metadata": {},
   "outputs": [
    {
     "name": "stdout",
     "output_type": "stream",
     "text": [
      "DATA FROM: Odd Look by Kavinsky, The Weeknd\n"
     ]
    },
    {
     "data": {
      "text/plain": [
       "popularity      1.059320\n",
       "danceability    0.366938\n",
       "energy          1.023143\n",
       "key             1.324892\n",
       "speechiness    -0.327006\n",
       "acousticness   -0.243229\n",
       "liveness       -0.512971\n",
       "tempo          -0.568155\n",
       "cluster         0.000000\n",
       "distance        0.419918\n",
       "Name: 3751, dtype: float64"
      ]
     },
     "execution_count": 58,
     "metadata": {},
     "output_type": "execute_result"
    }
   ],
   "source": [
    "# search for song's full data using the track_id\n",
    "song_matches = dataset[dataset['track_id'] == track_id]\n",
    "\n",
    "# get the first occurrence\n",
    "full_given_song = song_matches.loc[song_matches.first_valid_index()]\n",
    "\n",
    "# save the numerical data in a separate variable\n",
    "given_song = full_given_song[4:].astype(float)\n",
    "\n",
    "# print the full given song data\n",
    "print(f\"DATA FROM: {track_name} by {track_artists_str}\")\n",
    "given_song"
   ]
  },
  {
   "cell_type": "code",
   "execution_count": 59,
   "metadata": {},
   "outputs": [],
   "source": [
    "# consider ensemble clustering by running dbscan on each cluster to find subclusters"
   ]
  },
  {
   "cell_type": "markdown",
   "metadata": {},
   "source": [
    "## Initial Cluster Points & Filtering"
   ]
  },
  {
   "cell_type": "code",
   "execution_count": 60,
   "metadata": {},
   "outputs": [
    {
     "name": "stdout",
     "output_type": "stream",
     "text": [
      "(203, 14)\n"
     ]
    },
    {
     "data": {
      "text/html": [
       "<div>\n",
       "<style scoped>\n",
       "    .dataframe tbody tr th:only-of-type {\n",
       "        vertical-align: middle;\n",
       "    }\n",
       "\n",
       "    .dataframe tbody tr th {\n",
       "        vertical-align: top;\n",
       "    }\n",
       "\n",
       "    .dataframe thead th {\n",
       "        text-align: right;\n",
       "    }\n",
       "</style>\n",
       "<table border=\"1\" class=\"dataframe\">\n",
       "  <thead>\n",
       "    <tr style=\"text-align: right;\">\n",
       "      <th></th>\n",
       "      <th>track_name</th>\n",
       "      <th>artists</th>\n",
       "      <th>track_genre</th>\n",
       "      <th>track_id</th>\n",
       "      <th>popularity</th>\n",
       "      <th>danceability</th>\n",
       "      <th>energy</th>\n",
       "      <th>key</th>\n",
       "      <th>speechiness</th>\n",
       "      <th>acousticness</th>\n",
       "      <th>liveness</th>\n",
       "      <th>tempo</th>\n",
       "      <th>cluster</th>\n",
       "      <th>distance</th>\n",
       "    </tr>\n",
       "  </thead>\n",
       "  <tbody>\n",
       "    <tr>\n",
       "      <th>3374</th>\n",
       "      <td>About Love - From The Netflix Film “To All The...</td>\n",
       "      <td>MARINA</td>\n",
       "      <td>alternative</td>\n",
       "      <td>4XII12nbsvJblXfG1I2QR4</td>\n",
       "      <td>1.253677</td>\n",
       "      <td>0.417875</td>\n",
       "      <td>0.481451</td>\n",
       "      <td>-1.484194</td>\n",
       "      <td>-0.394981</td>\n",
       "      <td>0.008013</td>\n",
       "      <td>-0.292326</td>\n",
       "      <td>-0.831192</td>\n",
       "      <td>0</td>\n",
       "      <td>0.030193</td>\n",
       "    </tr>\n",
       "    <tr>\n",
       "      <th>3930</th>\n",
       "      <td>Turnin' Me Up</td>\n",
       "      <td>BJ The Chicago Kid</td>\n",
       "      <td>alternative</td>\n",
       "      <td>5yEIpnRU3WQmAWoOMP8ge9</td>\n",
       "      <td>-1.613085</td>\n",
       "      <td>0.955539</td>\n",
       "      <td>0.606157</td>\n",
       "      <td>-0.922377</td>\n",
       "      <td>-0.071878</td>\n",
       "      <td>-0.843550</td>\n",
       "      <td>-0.824953</td>\n",
       "      <td>-1.446087</td>\n",
       "      <td>0</td>\n",
       "      <td>0.041438</td>\n",
       "    </tr>\n",
       "    <tr>\n",
       "      <th>3932</th>\n",
       "      <td>Link</td>\n",
       "      <td>Tierra Whack</td>\n",
       "      <td>alternative</td>\n",
       "      <td>5nbzkaoGC4Ga3mxgezGo51</td>\n",
       "      <td>-1.613085</td>\n",
       "      <td>1.685630</td>\n",
       "      <td>-0.340829</td>\n",
       "      <td>-1.484194</td>\n",
       "      <td>-0.078057</td>\n",
       "      <td>-0.287566</td>\n",
       "      <td>-0.364164</td>\n",
       "      <td>0.930217</td>\n",
       "      <td>0</td>\n",
       "      <td>0.069084</td>\n",
       "    </tr>\n",
       "    <tr>\n",
       "      <th>3215</th>\n",
       "      <td>Akuma no Ko</td>\n",
       "      <td>Higuchi Ai</td>\n",
       "      <td>alternative</td>\n",
       "      <td>4pw7EuK2WTWGHI51jCKuGJ</td>\n",
       "      <td>1.399445</td>\n",
       "      <td>0.027360</td>\n",
       "      <td>0.111230</td>\n",
       "      <td>0.201257</td>\n",
       "      <td>-0.327888</td>\n",
       "      <td>-0.311212</td>\n",
       "      <td>-0.451396</td>\n",
       "      <td>-1.065741</td>\n",
       "      <td>0</td>\n",
       "      <td>0.071864</td>\n",
       "    </tr>\n",
       "    <tr>\n",
       "      <th>3977</th>\n",
       "      <td>Venom</td>\n",
       "      <td>Ravyn Lenae</td>\n",
       "      <td>alternative</td>\n",
       "      <td>10tWekrcBpZ8Nh3vHZxYJY</td>\n",
       "      <td>-1.613085</td>\n",
       "      <td>0.689537</td>\n",
       "      <td>-0.200535</td>\n",
       "      <td>-1.484194</td>\n",
       "      <td>-0.477964</td>\n",
       "      <td>-0.960067</td>\n",
       "      <td>-0.528365</td>\n",
       "      <td>0.430074</td>\n",
       "      <td>0</td>\n",
       "      <td>0.083215</td>\n",
       "    </tr>\n",
       "    <tr>\n",
       "      <th>3207</th>\n",
       "      <td>Akuma no Ko</td>\n",
       "      <td>Higuchi Ai</td>\n",
       "      <td>alternative</td>\n",
       "      <td>5cRKj1kynNFqiliT2ndZ3y</td>\n",
       "      <td>1.545212</td>\n",
       "      <td>-0.006597</td>\n",
       "      <td>0.200863</td>\n",
       "      <td>0.201257</td>\n",
       "      <td>-0.354372</td>\n",
       "      <td>-0.181157</td>\n",
       "      <td>-0.410346</td>\n",
       "      <td>-1.065442</td>\n",
       "      <td>0</td>\n",
       "      <td>0.084985</td>\n",
       "    </tr>\n",
       "    <tr>\n",
       "      <th>3085</th>\n",
       "      <td>You've Got The Love</td>\n",
       "      <td>Florence + The Machine</td>\n",
       "      <td>alternative</td>\n",
       "      <td>7MWBaRLGmvflqPoewBGbMj</td>\n",
       "      <td>-1.613085</td>\n",
       "      <td>0.066978</td>\n",
       "      <td>0.239833</td>\n",
       "      <td>0.201257</td>\n",
       "      <td>-0.483260</td>\n",
       "      <td>-0.956136</td>\n",
       "      <td>-0.589940</td>\n",
       "      <td>-0.404462</td>\n",
       "      <td>0</td>\n",
       "      <td>0.090879</td>\n",
       "    </tr>\n",
       "    <tr>\n",
       "      <th>3693</th>\n",
       "      <td>Brace for Impact - Live a Little</td>\n",
       "      <td>Sturgill Simpson</td>\n",
       "      <td>alternative</td>\n",
       "      <td>20ElUw6wK2R29yY6WLeyC7</td>\n",
       "      <td>-1.613085</td>\n",
       "      <td>0.304682</td>\n",
       "      <td>0.278804</td>\n",
       "      <td>-1.484194</td>\n",
       "      <td>-0.566243</td>\n",
       "      <td>-0.941535</td>\n",
       "      <td>-0.543759</td>\n",
       "      <td>-1.064612</td>\n",
       "      <td>0</td>\n",
       "      <td>0.119060</td>\n",
       "    </tr>\n",
       "    <tr>\n",
       "      <th>3698</th>\n",
       "      <td>Brace for Impact - Live a Little</td>\n",
       "      <td>Sturgill Simpson</td>\n",
       "      <td>alternative</td>\n",
       "      <td>2cx1tIGxn0EHZPN3pDkWsH</td>\n",
       "      <td>-1.613085</td>\n",
       "      <td>0.304682</td>\n",
       "      <td>0.278804</td>\n",
       "      <td>-1.484194</td>\n",
       "      <td>-0.566243</td>\n",
       "      <td>-0.941535</td>\n",
       "      <td>-0.543759</td>\n",
       "      <td>-1.064612</td>\n",
       "      <td>0</td>\n",
       "      <td>0.119060</td>\n",
       "    </tr>\n",
       "    <tr>\n",
       "      <th>3153</th>\n",
       "      <td>SAD GIRLZ LUV MONEY Remix (feat. Kali Uchis an...</td>\n",
       "      <td>Amaarae;Kali Uchis;Moliy;xxtristanxo</td>\n",
       "      <td>alternative</td>\n",
       "      <td>5lYLBAH2uSvERWy8GAcBJz</td>\n",
       "      <td>1.156499</td>\n",
       "      <td>1.198903</td>\n",
       "      <td>-0.216123</td>\n",
       "      <td>1.324892</td>\n",
       "      <td>-0.154860</td>\n",
       "      <td>0.043483</td>\n",
       "      <td>-0.441133</td>\n",
       "      <td>-0.984791</td>\n",
       "      <td>0</td>\n",
       "      <td>0.153451</td>\n",
       "    </tr>\n",
       "  </tbody>\n",
       "</table>\n",
       "</div>"
      ],
      "text/plain": [
       "                                             track_name  \\\n",
       "3374  About Love - From The Netflix Film “To All The...   \n",
       "3930                                      Turnin' Me Up   \n",
       "3932                                               Link   \n",
       "3215                                        Akuma no Ko   \n",
       "3977                                              Venom   \n",
       "3207                                        Akuma no Ko   \n",
       "3085                                You've Got The Love   \n",
       "3693                   Brace for Impact - Live a Little   \n",
       "3698                   Brace for Impact - Live a Little   \n",
       "3153  SAD GIRLZ LUV MONEY Remix (feat. Kali Uchis an...   \n",
       "\n",
       "                                   artists  track_genre  \\\n",
       "3374                                MARINA  alternative   \n",
       "3930                    BJ The Chicago Kid  alternative   \n",
       "3932                          Tierra Whack  alternative   \n",
       "3215                            Higuchi Ai  alternative   \n",
       "3977                           Ravyn Lenae  alternative   \n",
       "3207                            Higuchi Ai  alternative   \n",
       "3085                Florence + The Machine  alternative   \n",
       "3693                      Sturgill Simpson  alternative   \n",
       "3698                      Sturgill Simpson  alternative   \n",
       "3153  Amaarae;Kali Uchis;Moliy;xxtristanxo  alternative   \n",
       "\n",
       "                    track_id  popularity  danceability    energy       key  \\\n",
       "3374  4XII12nbsvJblXfG1I2QR4    1.253677      0.417875  0.481451 -1.484194   \n",
       "3930  5yEIpnRU3WQmAWoOMP8ge9   -1.613085      0.955539  0.606157 -0.922377   \n",
       "3932  5nbzkaoGC4Ga3mxgezGo51   -1.613085      1.685630 -0.340829 -1.484194   \n",
       "3215  4pw7EuK2WTWGHI51jCKuGJ    1.399445      0.027360  0.111230  0.201257   \n",
       "3977  10tWekrcBpZ8Nh3vHZxYJY   -1.613085      0.689537 -0.200535 -1.484194   \n",
       "3207  5cRKj1kynNFqiliT2ndZ3y    1.545212     -0.006597  0.200863  0.201257   \n",
       "3085  7MWBaRLGmvflqPoewBGbMj   -1.613085      0.066978  0.239833  0.201257   \n",
       "3693  20ElUw6wK2R29yY6WLeyC7   -1.613085      0.304682  0.278804 -1.484194   \n",
       "3698  2cx1tIGxn0EHZPN3pDkWsH   -1.613085      0.304682  0.278804 -1.484194   \n",
       "3153  5lYLBAH2uSvERWy8GAcBJz    1.156499      1.198903 -0.216123  1.324892   \n",
       "\n",
       "      speechiness  acousticness  liveness     tempo  cluster  distance  \n",
       "3374    -0.394981      0.008013 -0.292326 -0.831192        0  0.030193  \n",
       "3930    -0.071878     -0.843550 -0.824953 -1.446087        0  0.041438  \n",
       "3932    -0.078057     -0.287566 -0.364164  0.930217        0  0.069084  \n",
       "3215    -0.327888     -0.311212 -0.451396 -1.065741        0  0.071864  \n",
       "3977    -0.477964     -0.960067 -0.528365  0.430074        0  0.083215  \n",
       "3207    -0.354372     -0.181157 -0.410346 -1.065442        0  0.084985  \n",
       "3085    -0.483260     -0.956136 -0.589940 -0.404462        0  0.090879  \n",
       "3693    -0.566243     -0.941535 -0.543759 -1.064612        0  0.119060  \n",
       "3698    -0.566243     -0.941535 -0.543759 -1.064612        0  0.119060  \n",
       "3153    -0.154860      0.043483 -0.441133 -0.984791        0  0.153451  "
      ]
     },
     "execution_count": 60,
     "metadata": {},
     "output_type": "execute_result"
    }
   ],
   "source": [
    "# find the closest centroid\n",
    "\n",
    "# get the index of the closest centroid\n",
    "closest_centroid_idx = int(given_song['cluster'])\n",
    "\n",
    "# get the coordinates of the closest centroid\n",
    "closest_centroid = kmeans.cluster_centers_[closest_centroid_idx]\n",
    "\n",
    "# Find data points belonging to the closest cluster\n",
    "cluster_points = dataset.iloc[:, :][kmeans.labels_ == closest_centroid_idx]\n",
    "\n",
    "# Remove the given song from the closest cluster if it exists\n",
    "cluster_points = cluster_points[cluster_points['track_name'] != full_given_song['track_name']]\n",
    "\n",
    "# Only consider songs of the same genre\n",
    "# TODO: create clusters of genres that are similar and only from the that cluster\n",
    "cluster_points = cluster_points[cluster_points['track_genre'] == full_given_song['track_genre']]\n",
    "\n",
    "# print the amount of songs filtered\n",
    "print(cluster_points.shape)\n",
    "\n",
    "cluster_points.head(10)"
   ]
  },
  {
   "cell_type": "code",
   "execution_count": 61,
   "metadata": {},
   "outputs": [
    {
     "name": "stderr",
     "output_type": "stream",
     "text": [
      "/Users/joaquinmendoza/Downloads/cs/class/cs-450/spotify-cluster/venv/lib/python3.13/site-packages/sklearn/base.py:493: UserWarning: X does not have valid feature names, but PCA was fitted with feature names\n",
      "  warnings.warn(\n"
     ]
    },
    {
     "ename": "ValueError",
     "evalue": "X has 8 features, but PCA is expecting 10 features as input.",
     "output_type": "error",
     "traceback": [
      "\u001b[0;31m---------------------------------------------------------------------------\u001b[0m",
      "\u001b[0;31mValueError\u001b[0m                                Traceback (most recent call last)",
      "Cell \u001b[0;32mIn[61], line 4\u001b[0m\n\u001b[1;32m      1\u001b[0m \u001b[38;5;28;01mfrom\u001b[39;00m \u001b[38;5;21;01msklearn\u001b[39;00m\u001b[38;5;21;01m.\u001b[39;00m\u001b[38;5;21;01mmetrics\u001b[39;00m \u001b[38;5;28;01mimport\u001b[39;00m pairwise_distances_argmin_min\n\u001b[1;32m      3\u001b[0m \u001b[38;5;66;03m# get the pca-version of the given song\u001b[39;00m\n\u001b[0;32m----> 4\u001b[0m given_song_pca \u001b[38;5;241m=\u001b[39m \u001b[43mpca\u001b[49m\u001b[38;5;241;43m.\u001b[39;49m\u001b[43mtransform\u001b[49m\u001b[43m(\u001b[49m\u001b[43m[\u001b[49m\u001b[43mgiven_song\u001b[49m\u001b[38;5;241;43m.\u001b[39;49m\u001b[43miloc\u001b[49m\u001b[43m[\u001b[49m\u001b[43m:\u001b[49m\u001b[38;5;241;43m8\u001b[39;49m\u001b[43m]\u001b[49m\u001b[43m]\u001b[49m\u001b[43m)\u001b[49m\n\u001b[1;32m      5\u001b[0m \u001b[38;5;28mprint\u001b[39m(given_song_pca)\n\u001b[1;32m      6\u001b[0m \u001b[38;5;66;03m# calculate distances from the given song to all songs in the cluster\u001b[39;00m\n",
      "File \u001b[0;32m~/Downloads/cs/class/cs-450/spotify-cluster/venv/lib/python3.13/site-packages/sklearn/utils/_set_output.py:316\u001b[0m, in \u001b[0;36m_wrap_method_output.<locals>.wrapped\u001b[0;34m(self, X, *args, **kwargs)\u001b[0m\n\u001b[1;32m    314\u001b[0m \u001b[38;5;129m@wraps\u001b[39m(f)\n\u001b[1;32m    315\u001b[0m \u001b[38;5;28;01mdef\u001b[39;00m \u001b[38;5;21mwrapped\u001b[39m(\u001b[38;5;28mself\u001b[39m, X, \u001b[38;5;241m*\u001b[39margs, \u001b[38;5;241m*\u001b[39m\u001b[38;5;241m*\u001b[39mkwargs):\n\u001b[0;32m--> 316\u001b[0m     data_to_wrap \u001b[38;5;241m=\u001b[39m \u001b[43mf\u001b[49m\u001b[43m(\u001b[49m\u001b[38;5;28;43mself\u001b[39;49m\u001b[43m,\u001b[49m\u001b[43m \u001b[49m\u001b[43mX\u001b[49m\u001b[43m,\u001b[49m\u001b[43m \u001b[49m\u001b[38;5;241;43m*\u001b[39;49m\u001b[43margs\u001b[49m\u001b[43m,\u001b[49m\u001b[43m \u001b[49m\u001b[38;5;241;43m*\u001b[39;49m\u001b[38;5;241;43m*\u001b[39;49m\u001b[43mkwargs\u001b[49m\u001b[43m)\u001b[49m\n\u001b[1;32m    317\u001b[0m     \u001b[38;5;28;01mif\u001b[39;00m \u001b[38;5;28misinstance\u001b[39m(data_to_wrap, \u001b[38;5;28mtuple\u001b[39m):\n\u001b[1;32m    318\u001b[0m         \u001b[38;5;66;03m# only wrap the first output for cross decomposition\u001b[39;00m\n\u001b[1;32m    319\u001b[0m         return_tuple \u001b[38;5;241m=\u001b[39m (\n\u001b[1;32m    320\u001b[0m             _wrap_data_with_container(method, data_to_wrap[\u001b[38;5;241m0\u001b[39m], X, \u001b[38;5;28mself\u001b[39m),\n\u001b[1;32m    321\u001b[0m             \u001b[38;5;241m*\u001b[39mdata_to_wrap[\u001b[38;5;241m1\u001b[39m:],\n\u001b[1;32m    322\u001b[0m         )\n",
      "File \u001b[0;32m~/Downloads/cs/class/cs-450/spotify-cluster/venv/lib/python3.13/site-packages/sklearn/decomposition/_base.py:143\u001b[0m, in \u001b[0;36m_BasePCA.transform\u001b[0;34m(self, X)\u001b[0m\n\u001b[1;32m    139\u001b[0m xp, _ \u001b[38;5;241m=\u001b[39m get_namespace(X, \u001b[38;5;28mself\u001b[39m\u001b[38;5;241m.\u001b[39mcomponents_, \u001b[38;5;28mself\u001b[39m\u001b[38;5;241m.\u001b[39mexplained_variance_)\n\u001b[1;32m    141\u001b[0m check_is_fitted(\u001b[38;5;28mself\u001b[39m)\n\u001b[0;32m--> 143\u001b[0m X \u001b[38;5;241m=\u001b[39m \u001b[38;5;28;43mself\u001b[39;49m\u001b[38;5;241;43m.\u001b[39;49m\u001b[43m_validate_data\u001b[49m\u001b[43m(\u001b[49m\n\u001b[1;32m    144\u001b[0m \u001b[43m    \u001b[49m\u001b[43mX\u001b[49m\u001b[43m,\u001b[49m\u001b[43m \u001b[49m\u001b[43mdtype\u001b[49m\u001b[38;5;241;43m=\u001b[39;49m\u001b[43m[\u001b[49m\u001b[43mxp\u001b[49m\u001b[38;5;241;43m.\u001b[39;49m\u001b[43mfloat64\u001b[49m\u001b[43m,\u001b[49m\u001b[43m \u001b[49m\u001b[43mxp\u001b[49m\u001b[38;5;241;43m.\u001b[39;49m\u001b[43mfloat32\u001b[49m\u001b[43m]\u001b[49m\u001b[43m,\u001b[49m\u001b[43m \u001b[49m\u001b[43maccept_sparse\u001b[49m\u001b[38;5;241;43m=\u001b[39;49m\u001b[43m(\u001b[49m\u001b[38;5;124;43m\"\u001b[39;49m\u001b[38;5;124;43mcsr\u001b[39;49m\u001b[38;5;124;43m\"\u001b[39;49m\u001b[43m,\u001b[49m\u001b[43m \u001b[49m\u001b[38;5;124;43m\"\u001b[39;49m\u001b[38;5;124;43mcsc\u001b[39;49m\u001b[38;5;124;43m\"\u001b[39;49m\u001b[43m)\u001b[49m\u001b[43m,\u001b[49m\u001b[43m \u001b[49m\u001b[43mreset\u001b[49m\u001b[38;5;241;43m=\u001b[39;49m\u001b[38;5;28;43;01mFalse\u001b[39;49;00m\n\u001b[1;32m    145\u001b[0m \u001b[43m\u001b[49m\u001b[43m)\u001b[49m\n\u001b[1;32m    146\u001b[0m \u001b[38;5;28;01mreturn\u001b[39;00m \u001b[38;5;28mself\u001b[39m\u001b[38;5;241m.\u001b[39m_transform(X, xp\u001b[38;5;241m=\u001b[39mxp, x_is_centered\u001b[38;5;241m=\u001b[39m\u001b[38;5;28;01mFalse\u001b[39;00m)\n",
      "File \u001b[0;32m~/Downloads/cs/class/cs-450/spotify-cluster/venv/lib/python3.13/site-packages/sklearn/base.py:654\u001b[0m, in \u001b[0;36mBaseEstimator._validate_data\u001b[0;34m(self, X, y, reset, validate_separately, cast_to_ndarray, **check_params)\u001b[0m\n\u001b[1;32m    651\u001b[0m     out \u001b[38;5;241m=\u001b[39m X, y\n\u001b[1;32m    653\u001b[0m \u001b[38;5;28;01mif\u001b[39;00m \u001b[38;5;129;01mnot\u001b[39;00m no_val_X \u001b[38;5;129;01mand\u001b[39;00m check_params\u001b[38;5;241m.\u001b[39mget(\u001b[38;5;124m\"\u001b[39m\u001b[38;5;124mensure_2d\u001b[39m\u001b[38;5;124m\"\u001b[39m, \u001b[38;5;28;01mTrue\u001b[39;00m):\n\u001b[0;32m--> 654\u001b[0m     \u001b[38;5;28;43mself\u001b[39;49m\u001b[38;5;241;43m.\u001b[39;49m\u001b[43m_check_n_features\u001b[49m\u001b[43m(\u001b[49m\u001b[43mX\u001b[49m\u001b[43m,\u001b[49m\u001b[43m \u001b[49m\u001b[43mreset\u001b[49m\u001b[38;5;241;43m=\u001b[39;49m\u001b[43mreset\u001b[49m\u001b[43m)\u001b[49m\n\u001b[1;32m    656\u001b[0m \u001b[38;5;28;01mreturn\u001b[39;00m out\n",
      "File \u001b[0;32m~/Downloads/cs/class/cs-450/spotify-cluster/venv/lib/python3.13/site-packages/sklearn/base.py:443\u001b[0m, in \u001b[0;36mBaseEstimator._check_n_features\u001b[0;34m(self, X, reset)\u001b[0m\n\u001b[1;32m    440\u001b[0m     \u001b[38;5;28;01mreturn\u001b[39;00m\n\u001b[1;32m    442\u001b[0m \u001b[38;5;28;01mif\u001b[39;00m n_features \u001b[38;5;241m!=\u001b[39m \u001b[38;5;28mself\u001b[39m\u001b[38;5;241m.\u001b[39mn_features_in_:\n\u001b[0;32m--> 443\u001b[0m     \u001b[38;5;28;01mraise\u001b[39;00m \u001b[38;5;167;01mValueError\u001b[39;00m(\n\u001b[1;32m    444\u001b[0m         \u001b[38;5;124mf\u001b[39m\u001b[38;5;124m\"\u001b[39m\u001b[38;5;124mX has \u001b[39m\u001b[38;5;132;01m{\u001b[39;00mn_features\u001b[38;5;132;01m}\u001b[39;00m\u001b[38;5;124m features, but \u001b[39m\u001b[38;5;132;01m{\u001b[39;00m\u001b[38;5;28mself\u001b[39m\u001b[38;5;241m.\u001b[39m\u001b[38;5;18m__class__\u001b[39m\u001b[38;5;241m.\u001b[39m\u001b[38;5;18m__name__\u001b[39m\u001b[38;5;132;01m}\u001b[39;00m\u001b[38;5;124m \u001b[39m\u001b[38;5;124m\"\u001b[39m\n\u001b[1;32m    445\u001b[0m         \u001b[38;5;124mf\u001b[39m\u001b[38;5;124m\"\u001b[39m\u001b[38;5;124mis expecting \u001b[39m\u001b[38;5;132;01m{\u001b[39;00m\u001b[38;5;28mself\u001b[39m\u001b[38;5;241m.\u001b[39mn_features_in_\u001b[38;5;132;01m}\u001b[39;00m\u001b[38;5;124m features as input.\u001b[39m\u001b[38;5;124m\"\u001b[39m\n\u001b[1;32m    446\u001b[0m     )\n",
      "\u001b[0;31mValueError\u001b[0m: X has 8 features, but PCA is expecting 10 features as input."
     ]
    }
   ],
   "source": [
    "from sklearn.metrics import pairwise_distances_argmin_min\n",
    "\n",
    "# get the pca-version of the given song\n",
    "given_song_pca = pca.transform([given_song.iloc[:8]])\n",
    "print(given_song_pca)\n",
    "# calculate distances from the given song to all songs in the cluster\n",
    "ten_songs_pca = []\n",
    "\n",
    "# TODO: fix the data type differences\n",
    "for i in range(10):\n",
    "    ten_songs_pca += [pca.transform([cluster_points.iloc[i, 4:12].astype(float)])]\n",
    "print(ten_songs_pca)\n",
    "# indices, distances = pairwise_distances_argmin_min(given_song_pca, ten_songs_pca)\n",
    "\n",
    "# # get indices of the 10 closest songs\n",
    "# closest_songs_indices = distances.argsort()[:10]\n",
    "\n",
    "# # plot the given song\n",
    "# plt.scatter(given_song_pca[0][0], given_song_pca[0][1], s=300, c='black', label='Given Song')\n",
    "\n",
    "# # plot the first 10 songs closest to the given song\n",
    "# for idx in closest_songs_indices:\n",
    "#     song_pca = data_pca[idx]\n",
    "#     plt.scatter(song_pca[0], song_pca[1], s=100, c='blue', label='Closest Songs')\n",
    "\n",
    "# plt.title('Songs closest to the given song')\n",
    "# plt.xlabel('PCA1')\n",
    "# plt.ylabel('PCA2')\n",
    "# plt.legend()\n",
    "# plt.show()"
   ]
  },
  {
   "cell_type": "code",
   "execution_count": 62,
   "metadata": {},
   "outputs": [
    {
     "name": "stderr",
     "output_type": "stream",
     "text": [
      "/Users/joaquinmendoza/Downloads/cs/class/cs-450/spotify-cluster/venv/lib/python3.13/site-packages/sklearn/base.py:493: UserWarning: X does not have valid feature names, but PCA was fitted with feature names\n",
      "  warnings.warn(\n"
     ]
    },
    {
     "ename": "ValueError",
     "evalue": "X has 8 features, but PCA is expecting 10 features as input.",
     "output_type": "error",
     "traceback": [
      "\u001b[0;31m---------------------------------------------------------------------------\u001b[0m",
      "\u001b[0;31mValueError\u001b[0m                                Traceback (most recent call last)",
      "Cell \u001b[0;32mIn[62], line 6\u001b[0m\n\u001b[1;32m      3\u001b[0m plt\u001b[38;5;241m.\u001b[39mscatter(closest_centroid[\u001b[38;5;241m0\u001b[39m], closest_centroid[\u001b[38;5;241m1\u001b[39m], s\u001b[38;5;241m=\u001b[39m\u001b[38;5;241m300\u001b[39m, c\u001b[38;5;241m=\u001b[39m\u001b[38;5;124m'\u001b[39m\u001b[38;5;124myellow\u001b[39m\u001b[38;5;124m'\u001b[39m, label\u001b[38;5;241m=\u001b[39m\u001b[38;5;124m'\u001b[39m\u001b[38;5;124mCentroid\u001b[39m\u001b[38;5;124m'\u001b[39m)\n\u001b[1;32m      5\u001b[0m \u001b[38;5;66;03m# get the pca-version of the given song\u001b[39;00m\n\u001b[0;32m----> 6\u001b[0m given_song_pca \u001b[38;5;241m=\u001b[39m \u001b[43mpca\u001b[49m\u001b[38;5;241;43m.\u001b[39;49m\u001b[43mtransform\u001b[49m\u001b[43m(\u001b[49m\u001b[43m[\u001b[49m\u001b[43mgiven_song\u001b[49m\u001b[38;5;241;43m.\u001b[39;49m\u001b[43miloc\u001b[49m\u001b[43m[\u001b[49m\u001b[43m:\u001b[49m\u001b[38;5;241;43m8\u001b[39;49m\u001b[43m]\u001b[49m\u001b[43m]\u001b[49m\u001b[43m)\u001b[49m\n\u001b[1;32m      8\u001b[0m \u001b[38;5;66;03m# plot the given song\u001b[39;00m\n\u001b[1;32m      9\u001b[0m plt\u001b[38;5;241m.\u001b[39mscatter(given_song_pca[\u001b[38;5;241m0\u001b[39m][\u001b[38;5;241m0\u001b[39m], given_song_pca[\u001b[38;5;241m0\u001b[39m][\u001b[38;5;241m1\u001b[39m], s\u001b[38;5;241m=\u001b[39m\u001b[38;5;241m300\u001b[39m, c\u001b[38;5;241m=\u001b[39m\u001b[38;5;124m'\u001b[39m\u001b[38;5;124mblack\u001b[39m\u001b[38;5;124m'\u001b[39m, label\u001b[38;5;241m=\u001b[39m\u001b[38;5;124m'\u001b[39m\u001b[38;5;124mGiven Song\u001b[39m\u001b[38;5;124m'\u001b[39m)\n",
      "File \u001b[0;32m~/Downloads/cs/class/cs-450/spotify-cluster/venv/lib/python3.13/site-packages/sklearn/utils/_set_output.py:316\u001b[0m, in \u001b[0;36m_wrap_method_output.<locals>.wrapped\u001b[0;34m(self, X, *args, **kwargs)\u001b[0m\n\u001b[1;32m    314\u001b[0m \u001b[38;5;129m@wraps\u001b[39m(f)\n\u001b[1;32m    315\u001b[0m \u001b[38;5;28;01mdef\u001b[39;00m \u001b[38;5;21mwrapped\u001b[39m(\u001b[38;5;28mself\u001b[39m, X, \u001b[38;5;241m*\u001b[39margs, \u001b[38;5;241m*\u001b[39m\u001b[38;5;241m*\u001b[39mkwargs):\n\u001b[0;32m--> 316\u001b[0m     data_to_wrap \u001b[38;5;241m=\u001b[39m \u001b[43mf\u001b[49m\u001b[43m(\u001b[49m\u001b[38;5;28;43mself\u001b[39;49m\u001b[43m,\u001b[49m\u001b[43m \u001b[49m\u001b[43mX\u001b[49m\u001b[43m,\u001b[49m\u001b[43m \u001b[49m\u001b[38;5;241;43m*\u001b[39;49m\u001b[43margs\u001b[49m\u001b[43m,\u001b[49m\u001b[43m \u001b[49m\u001b[38;5;241;43m*\u001b[39;49m\u001b[38;5;241;43m*\u001b[39;49m\u001b[43mkwargs\u001b[49m\u001b[43m)\u001b[49m\n\u001b[1;32m    317\u001b[0m     \u001b[38;5;28;01mif\u001b[39;00m \u001b[38;5;28misinstance\u001b[39m(data_to_wrap, \u001b[38;5;28mtuple\u001b[39m):\n\u001b[1;32m    318\u001b[0m         \u001b[38;5;66;03m# only wrap the first output for cross decomposition\u001b[39;00m\n\u001b[1;32m    319\u001b[0m         return_tuple \u001b[38;5;241m=\u001b[39m (\n\u001b[1;32m    320\u001b[0m             _wrap_data_with_container(method, data_to_wrap[\u001b[38;5;241m0\u001b[39m], X, \u001b[38;5;28mself\u001b[39m),\n\u001b[1;32m    321\u001b[0m             \u001b[38;5;241m*\u001b[39mdata_to_wrap[\u001b[38;5;241m1\u001b[39m:],\n\u001b[1;32m    322\u001b[0m         )\n",
      "File \u001b[0;32m~/Downloads/cs/class/cs-450/spotify-cluster/venv/lib/python3.13/site-packages/sklearn/decomposition/_base.py:143\u001b[0m, in \u001b[0;36m_BasePCA.transform\u001b[0;34m(self, X)\u001b[0m\n\u001b[1;32m    139\u001b[0m xp, _ \u001b[38;5;241m=\u001b[39m get_namespace(X, \u001b[38;5;28mself\u001b[39m\u001b[38;5;241m.\u001b[39mcomponents_, \u001b[38;5;28mself\u001b[39m\u001b[38;5;241m.\u001b[39mexplained_variance_)\n\u001b[1;32m    141\u001b[0m check_is_fitted(\u001b[38;5;28mself\u001b[39m)\n\u001b[0;32m--> 143\u001b[0m X \u001b[38;5;241m=\u001b[39m \u001b[38;5;28;43mself\u001b[39;49m\u001b[38;5;241;43m.\u001b[39;49m\u001b[43m_validate_data\u001b[49m\u001b[43m(\u001b[49m\n\u001b[1;32m    144\u001b[0m \u001b[43m    \u001b[49m\u001b[43mX\u001b[49m\u001b[43m,\u001b[49m\u001b[43m \u001b[49m\u001b[43mdtype\u001b[49m\u001b[38;5;241;43m=\u001b[39;49m\u001b[43m[\u001b[49m\u001b[43mxp\u001b[49m\u001b[38;5;241;43m.\u001b[39;49m\u001b[43mfloat64\u001b[49m\u001b[43m,\u001b[49m\u001b[43m \u001b[49m\u001b[43mxp\u001b[49m\u001b[38;5;241;43m.\u001b[39;49m\u001b[43mfloat32\u001b[49m\u001b[43m]\u001b[49m\u001b[43m,\u001b[49m\u001b[43m \u001b[49m\u001b[43maccept_sparse\u001b[49m\u001b[38;5;241;43m=\u001b[39;49m\u001b[43m(\u001b[49m\u001b[38;5;124;43m\"\u001b[39;49m\u001b[38;5;124;43mcsr\u001b[39;49m\u001b[38;5;124;43m\"\u001b[39;49m\u001b[43m,\u001b[49m\u001b[43m \u001b[49m\u001b[38;5;124;43m\"\u001b[39;49m\u001b[38;5;124;43mcsc\u001b[39;49m\u001b[38;5;124;43m\"\u001b[39;49m\u001b[43m)\u001b[49m\u001b[43m,\u001b[49m\u001b[43m \u001b[49m\u001b[43mreset\u001b[49m\u001b[38;5;241;43m=\u001b[39;49m\u001b[38;5;28;43;01mFalse\u001b[39;49;00m\n\u001b[1;32m    145\u001b[0m \u001b[43m\u001b[49m\u001b[43m)\u001b[49m\n\u001b[1;32m    146\u001b[0m \u001b[38;5;28;01mreturn\u001b[39;00m \u001b[38;5;28mself\u001b[39m\u001b[38;5;241m.\u001b[39m_transform(X, xp\u001b[38;5;241m=\u001b[39mxp, x_is_centered\u001b[38;5;241m=\u001b[39m\u001b[38;5;28;01mFalse\u001b[39;00m)\n",
      "File \u001b[0;32m~/Downloads/cs/class/cs-450/spotify-cluster/venv/lib/python3.13/site-packages/sklearn/base.py:654\u001b[0m, in \u001b[0;36mBaseEstimator._validate_data\u001b[0;34m(self, X, y, reset, validate_separately, cast_to_ndarray, **check_params)\u001b[0m\n\u001b[1;32m    651\u001b[0m     out \u001b[38;5;241m=\u001b[39m X, y\n\u001b[1;32m    653\u001b[0m \u001b[38;5;28;01mif\u001b[39;00m \u001b[38;5;129;01mnot\u001b[39;00m no_val_X \u001b[38;5;129;01mand\u001b[39;00m check_params\u001b[38;5;241m.\u001b[39mget(\u001b[38;5;124m\"\u001b[39m\u001b[38;5;124mensure_2d\u001b[39m\u001b[38;5;124m\"\u001b[39m, \u001b[38;5;28;01mTrue\u001b[39;00m):\n\u001b[0;32m--> 654\u001b[0m     \u001b[38;5;28;43mself\u001b[39;49m\u001b[38;5;241;43m.\u001b[39;49m\u001b[43m_check_n_features\u001b[49m\u001b[43m(\u001b[49m\u001b[43mX\u001b[49m\u001b[43m,\u001b[49m\u001b[43m \u001b[49m\u001b[43mreset\u001b[49m\u001b[38;5;241;43m=\u001b[39;49m\u001b[43mreset\u001b[49m\u001b[43m)\u001b[49m\n\u001b[1;32m    656\u001b[0m \u001b[38;5;28;01mreturn\u001b[39;00m out\n",
      "File \u001b[0;32m~/Downloads/cs/class/cs-450/spotify-cluster/venv/lib/python3.13/site-packages/sklearn/base.py:443\u001b[0m, in \u001b[0;36mBaseEstimator._check_n_features\u001b[0;34m(self, X, reset)\u001b[0m\n\u001b[1;32m    440\u001b[0m     \u001b[38;5;28;01mreturn\u001b[39;00m\n\u001b[1;32m    442\u001b[0m \u001b[38;5;28;01mif\u001b[39;00m n_features \u001b[38;5;241m!=\u001b[39m \u001b[38;5;28mself\u001b[39m\u001b[38;5;241m.\u001b[39mn_features_in_:\n\u001b[0;32m--> 443\u001b[0m     \u001b[38;5;28;01mraise\u001b[39;00m \u001b[38;5;167;01mValueError\u001b[39;00m(\n\u001b[1;32m    444\u001b[0m         \u001b[38;5;124mf\u001b[39m\u001b[38;5;124m\"\u001b[39m\u001b[38;5;124mX has \u001b[39m\u001b[38;5;132;01m{\u001b[39;00mn_features\u001b[38;5;132;01m}\u001b[39;00m\u001b[38;5;124m features, but \u001b[39m\u001b[38;5;132;01m{\u001b[39;00m\u001b[38;5;28mself\u001b[39m\u001b[38;5;241m.\u001b[39m\u001b[38;5;18m__class__\u001b[39m\u001b[38;5;241m.\u001b[39m\u001b[38;5;18m__name__\u001b[39m\u001b[38;5;132;01m}\u001b[39;00m\u001b[38;5;124m \u001b[39m\u001b[38;5;124m\"\u001b[39m\n\u001b[1;32m    445\u001b[0m         \u001b[38;5;124mf\u001b[39m\u001b[38;5;124m\"\u001b[39m\u001b[38;5;124mis expecting \u001b[39m\u001b[38;5;132;01m{\u001b[39;00m\u001b[38;5;28mself\u001b[39m\u001b[38;5;241m.\u001b[39mn_features_in_\u001b[38;5;132;01m}\u001b[39;00m\u001b[38;5;124m features as input.\u001b[39m\u001b[38;5;124m\"\u001b[39m\n\u001b[1;32m    446\u001b[0m     )\n",
      "\u001b[0;31mValueError\u001b[0m: X has 8 features, but PCA is expecting 10 features as input."
     ]
    },
    {
     "data": {
      "image/png": "[encoded data removed]",
      "text/plain": [
       "<Figure size 640x480 with 1 Axes>"
      ]
     },
     "metadata": {},
     "output_type": "display_data"
    }
   ],
   "source": [
    "# Plot the cluster points\n",
    "plt.scatter(data_pca[pred_y == closest_centroid_idx, 0], data_pca[pred_y == closest_centroid_idx, 1], s=100, c='red', label='Cluster 0')\n",
    "plt.scatter(closest_centroid[0], closest_centroid[1], s=300, c='yellow', label='Centroid')\n",
    "\n",
    "# get the pca-version of the given song\n",
    "given_song_pca = pca.transform([given_song.iloc[:8]])\n",
    "\n",
    "# plot the given song\n",
    "plt.scatter(given_song_pca[0][0], given_song_pca[0][1], s=300, c='black', label='Given Song')\n",
    "\n",
    "# plot the first 10 songs (iterate thru cluster_points)\n",
    "for i in range(10):\n",
    "    song_pca = pca.transform([cluster_points.iloc[i, 4:12]]) # view this line\n",
    "    plt.scatter(song_pca[0][0], song_pca[0][1], s=100, c='blue', label='Cluster 0')\n",
    "\n",
    "plt.title('Clusters of songs')\n",
    "plt.xlabel('PCA1')\n",
    "plt.ylabel('PCA2')\n",
    "plt.legend()\n",
    "plt.show()"
   ]
  },
  {
   "cell_type": "code",
   "execution_count": null,
   "metadata": {},
   "outputs": [
    {
     "name": "stdout",
     "output_type": "stream",
     "text": [
      "\n",
      "FOUND 0 SIMILAR SONGS\n",
      "\n",
      "track_name                Odd Look\n",
      "artists        Kavinsky;The Weeknd\n",
      "track_genre            alternative\n",
      "Name: 3751, dtype: object\n"
     ]
    }
   ],
   "source": [
    "# Get the genre words from the given song\n",
    "song_genre_words = full_given_song['track_genre'].split()\n",
    "song_genre_words = ' '.join(song_genre_words)\n",
    "\n",
    "# remove '-' from genre words\n",
    "if '-' in song_genre_words:\n",
    "    # split the genre into words\n",
    "    song_genre_words = song_genre_words.split('-')\n",
    "\n",
    "# join all words that exist in both lists\n",
    "genre_words = [word for word in song_genre_words if word in artist_genres_words]\n",
    "# genre_words = ' '.join(genre_words)\n",
    "\n",
    "# join all genres similar to genre words\n",
    "for genre in genres_searchable:\n",
    "    if any(word in genre for word in genre_words):\n",
    "\n",
    "        # turn genre back into hyphenated string\n",
    "        if len(genre) > 1:\n",
    "            genre = '-'.join(genre)\n",
    "        else:\n",
    "            genre = genre[0]\n",
    "\n",
    "        # keep only unique genres\n",
    "        if genre not in genre_words:\n",
    "            genre_words.append(genre)\n",
    "\n",
    "# print(genre_words)\n",
    "\n",
    "# Compare genre words between the given song and the closest cluster points\n",
    "cluster_points = cluster_points[cluster_points['track_genre'].isin(genre_words)]\n",
    "\n",
    "# print(song_genre_words)\n",
    "# cluster_points = cluster_points[cluster_points['track_genre'] in artist_genres_words]\n",
    "\n",
    "# Only keep one song per artist\n",
    "cluster_points = cluster_points.drop_duplicates(subset='artists')\n",
    "\n",
    "# Get songs with a similar given attribute\n",
    "attributes = ['speechiness', 'popularity', 'danceability', 'energy', 'acousticness', 'liveness', 'tempo']\n",
    "sensitivity = 1\n",
    "\n",
    "for attribute in attributes:\n",
    "    cluster_points = cluster_points[\n",
    "        (cluster_points[attribute] >= full_given_song[attribute] - sensitivity) & (\n",
    "                cluster_points[attribute] <= full_given_song[attribute] + sensitivity)]\n",
    "\n",
    "print(\"\\nFOUND\", len(cluster_points), \"SIMILAR SONGS\\n\")\n",
    "\n",
    "print(full_given_song[:3])\n",
    "# print(data.iloc[song_idx, :])"
   ]
  },
  {
   "cell_type": "code",
   "execution_count": 64,
   "metadata": {},
   "outputs": [
    {
     "ename": "ValueError",
     "evalue": "Found array with 0 sample(s) (shape=(0, 11)) while a minimum of 1 is required by check_pairwise_arrays.",
     "output_type": "error",
     "traceback": [
      "\u001b[0;31m---------------------------------------------------------------------------\u001b[0m",
      "\u001b[0;31mValueError\u001b[0m                                Traceback (most recent call last)",
      "Cell \u001b[0;32mIn[64], line 5\u001b[0m\n\u001b[1;32m      2\u001b[0m \u001b[38;5;28;01mfrom\u001b[39;00m \u001b[38;5;21;01msklearn\u001b[39;00m\u001b[38;5;21;01m.\u001b[39;00m\u001b[38;5;21;01mmetrics\u001b[39;00m\u001b[38;5;21;01m.\u001b[39;00m\u001b[38;5;21;01mpairwise\u001b[39;00m \u001b[38;5;28;01mimport\u001b[39;00m euclidean_distances\n\u001b[1;32m      4\u001b[0m \u001b[38;5;66;03m# find the 2nd closest song\u001b[39;00m\n\u001b[0;32m----> 5\u001b[0m distances \u001b[38;5;241m=\u001b[39m \u001b[43meuclidean_distances\u001b[49m\u001b[43m(\u001b[49m\u001b[43mcluster_points\u001b[49m\u001b[38;5;241;43m.\u001b[39;49m\u001b[43miloc\u001b[49m\u001b[43m[\u001b[49m\u001b[43m:\u001b[49m\u001b[43m,\u001b[49m\u001b[43m \u001b[49m\u001b[38;5;241;43m3\u001b[39;49m\u001b[43m:\u001b[49m\u001b[43m]\u001b[49m\u001b[43m,\u001b[49m\u001b[43m \u001b[49m\u001b[43m[\u001b[49m\u001b[43mgiven_song\u001b[49m\u001b[43m]\u001b[49m\u001b[43m)\u001b[49m\n\u001b[1;32m      7\u001b[0m closest_song_indices \u001b[38;5;241m=\u001b[39m distances\u001b[38;5;241m.\u001b[39mflatten()\u001b[38;5;241m.\u001b[39margsort()\n\u001b[1;32m      9\u001b[0m second_closest_song_idx \u001b[38;5;241m=\u001b[39m closest_song_indices[\u001b[38;5;241m1\u001b[39m:\u001b[38;5;241m10\u001b[39m]\n",
      "File \u001b[0;32m~/Downloads/cs/class/cs-450/spotify-cluster/venv/lib/python3.13/site-packages/sklearn/utils/_param_validation.py:213\u001b[0m, in \u001b[0;36mvalidate_params.<locals>.decorator.<locals>.wrapper\u001b[0;34m(*args, **kwargs)\u001b[0m\n\u001b[1;32m    207\u001b[0m \u001b[38;5;28;01mtry\u001b[39;00m:\n\u001b[1;32m    208\u001b[0m     \u001b[38;5;28;01mwith\u001b[39;00m config_context(\n\u001b[1;32m    209\u001b[0m         skip_parameter_validation\u001b[38;5;241m=\u001b[39m(\n\u001b[1;32m    210\u001b[0m             prefer_skip_nested_validation \u001b[38;5;129;01mor\u001b[39;00m global_skip_validation\n\u001b[1;32m    211\u001b[0m         )\n\u001b[1;32m    212\u001b[0m     ):\n\u001b[0;32m--> 213\u001b[0m         \u001b[38;5;28;01mreturn\u001b[39;00m \u001b[43mfunc\u001b[49m\u001b[43m(\u001b[49m\u001b[38;5;241;43m*\u001b[39;49m\u001b[43margs\u001b[49m\u001b[43m,\u001b[49m\u001b[43m \u001b[49m\u001b[38;5;241;43m*\u001b[39;49m\u001b[38;5;241;43m*\u001b[39;49m\u001b[43mkwargs\u001b[49m\u001b[43m)\u001b[49m\n\u001b[1;32m    214\u001b[0m \u001b[38;5;28;01mexcept\u001b[39;00m InvalidParameterError \u001b[38;5;28;01mas\u001b[39;00m e:\n\u001b[1;32m    215\u001b[0m     \u001b[38;5;66;03m# When the function is just a wrapper around an estimator, we allow\u001b[39;00m\n\u001b[1;32m    216\u001b[0m     \u001b[38;5;66;03m# the function to delegate validation to the estimator, but we replace\u001b[39;00m\n\u001b[1;32m    217\u001b[0m     \u001b[38;5;66;03m# the name of the estimator by the name of the function in the error\u001b[39;00m\n\u001b[1;32m    218\u001b[0m     \u001b[38;5;66;03m# message to avoid confusion.\u001b[39;00m\n\u001b[1;32m    219\u001b[0m     msg \u001b[38;5;241m=\u001b[39m re\u001b[38;5;241m.\u001b[39msub(\n\u001b[1;32m    220\u001b[0m         \u001b[38;5;124mr\u001b[39m\u001b[38;5;124m\"\u001b[39m\u001b[38;5;124mparameter of \u001b[39m\u001b[38;5;124m\\\u001b[39m\u001b[38;5;124mw+ must be\u001b[39m\u001b[38;5;124m\"\u001b[39m,\n\u001b[1;32m    221\u001b[0m         \u001b[38;5;124mf\u001b[39m\u001b[38;5;124m\"\u001b[39m\u001b[38;5;124mparameter of \u001b[39m\u001b[38;5;132;01m{\u001b[39;00mfunc\u001b[38;5;241m.\u001b[39m\u001b[38;5;18m__qualname__\u001b[39m\u001b[38;5;132;01m}\u001b[39;00m\u001b[38;5;124m must be\u001b[39m\u001b[38;5;124m\"\u001b[39m,\n\u001b[1;32m    222\u001b[0m         \u001b[38;5;28mstr\u001b[39m(e),\n\u001b[1;32m    223\u001b[0m     )\n",
      "File \u001b[0;32m~/Downloads/cs/class/cs-450/spotify-cluster/venv/lib/python3.13/site-packages/sklearn/metrics/pairwise.py:344\u001b[0m, in \u001b[0;36meuclidean_distances\u001b[0;34m(X, Y, Y_norm_squared, squared, X_norm_squared)\u001b[0m\n\u001b[1;32m    258\u001b[0m \u001b[38;5;129m@validate_params\u001b[39m(\n\u001b[1;32m    259\u001b[0m     {\n\u001b[1;32m    260\u001b[0m         \u001b[38;5;124m\"\u001b[39m\u001b[38;5;124mX\u001b[39m\u001b[38;5;124m\"\u001b[39m: [\u001b[38;5;124m\"\u001b[39m\u001b[38;5;124marray-like\u001b[39m\u001b[38;5;124m\"\u001b[39m, \u001b[38;5;124m\"\u001b[39m\u001b[38;5;124msparse matrix\u001b[39m\u001b[38;5;124m\"\u001b[39m],\n\u001b[0;32m   (...)\u001b[0m\n\u001b[1;32m    269\u001b[0m     X, Y\u001b[38;5;241m=\u001b[39m\u001b[38;5;28;01mNone\u001b[39;00m, \u001b[38;5;241m*\u001b[39m, Y_norm_squared\u001b[38;5;241m=\u001b[39m\u001b[38;5;28;01mNone\u001b[39;00m, squared\u001b[38;5;241m=\u001b[39m\u001b[38;5;28;01mFalse\u001b[39;00m, X_norm_squared\u001b[38;5;241m=\u001b[39m\u001b[38;5;28;01mNone\u001b[39;00m\n\u001b[1;32m    270\u001b[0m ):\n\u001b[1;32m    271\u001b[0m \u001b[38;5;250m    \u001b[39m\u001b[38;5;124;03m\"\"\"\u001b[39;00m\n\u001b[1;32m    272\u001b[0m \u001b[38;5;124;03m    Compute the distance matrix between each pair from a vector array X and Y.\u001b[39;00m\n\u001b[1;32m    273\u001b[0m \n\u001b[0;32m   (...)\u001b[0m\n\u001b[1;32m    342\u001b[0m \u001b[38;5;124;03m           [1.41421356]])\u001b[39;00m\n\u001b[1;32m    343\u001b[0m \u001b[38;5;124;03m    \"\"\"\u001b[39;00m\n\u001b[0;32m--> 344\u001b[0m     X, Y \u001b[38;5;241m=\u001b[39m \u001b[43mcheck_pairwise_arrays\u001b[49m\u001b[43m(\u001b[49m\u001b[43mX\u001b[49m\u001b[43m,\u001b[49m\u001b[43m \u001b[49m\u001b[43mY\u001b[49m\u001b[43m)\u001b[49m\n\u001b[1;32m    346\u001b[0m     \u001b[38;5;28;01mif\u001b[39;00m X_norm_squared \u001b[38;5;129;01mis\u001b[39;00m \u001b[38;5;129;01mnot\u001b[39;00m \u001b[38;5;28;01mNone\u001b[39;00m:\n\u001b[1;32m    347\u001b[0m         X_norm_squared \u001b[38;5;241m=\u001b[39m check_array(X_norm_squared, ensure_2d\u001b[38;5;241m=\u001b[39m\u001b[38;5;28;01mFalse\u001b[39;00m)\n",
      "File \u001b[0;32m~/Downloads/cs/class/cs-450/spotify-cluster/venv/lib/python3.13/site-packages/sklearn/metrics/pairwise.py:185\u001b[0m, in \u001b[0;36mcheck_pairwise_arrays\u001b[0;34m(X, Y, precomputed, dtype, accept_sparse, force_all_finite, ensure_2d, copy)\u001b[0m\n\u001b[1;32m    175\u001b[0m     X \u001b[38;5;241m=\u001b[39m Y \u001b[38;5;241m=\u001b[39m check_array(\n\u001b[1;32m    176\u001b[0m         X,\n\u001b[1;32m    177\u001b[0m         accept_sparse\u001b[38;5;241m=\u001b[39maccept_sparse,\n\u001b[0;32m   (...)\u001b[0m\n\u001b[1;32m    182\u001b[0m         ensure_2d\u001b[38;5;241m=\u001b[39mensure_2d,\n\u001b[1;32m    183\u001b[0m     )\n\u001b[1;32m    184\u001b[0m \u001b[38;5;28;01melse\u001b[39;00m:\n\u001b[0;32m--> 185\u001b[0m     X \u001b[38;5;241m=\u001b[39m \u001b[43mcheck_array\u001b[49m\u001b[43m(\u001b[49m\n\u001b[1;32m    186\u001b[0m \u001b[43m        \u001b[49m\u001b[43mX\u001b[49m\u001b[43m,\u001b[49m\n\u001b[1;32m    187\u001b[0m \u001b[43m        \u001b[49m\u001b[43maccept_sparse\u001b[49m\u001b[38;5;241;43m=\u001b[39;49m\u001b[43maccept_sparse\u001b[49m\u001b[43m,\u001b[49m\n\u001b[1;32m    188\u001b[0m \u001b[43m        \u001b[49m\u001b[43mdtype\u001b[49m\u001b[38;5;241;43m=\u001b[39;49m\u001b[43mdtype\u001b[49m\u001b[43m,\u001b[49m\n\u001b[1;32m    189\u001b[0m \u001b[43m        \u001b[49m\u001b[43mcopy\u001b[49m\u001b[38;5;241;43m=\u001b[39;49m\u001b[43mcopy\u001b[49m\u001b[43m,\u001b[49m\n\u001b[1;32m    190\u001b[0m \u001b[43m        \u001b[49m\u001b[43mforce_all_finite\u001b[49m\u001b[38;5;241;43m=\u001b[39;49m\u001b[43mforce_all_finite\u001b[49m\u001b[43m,\u001b[49m\n\u001b[1;32m    191\u001b[0m \u001b[43m        \u001b[49m\u001b[43mestimator\u001b[49m\u001b[38;5;241;43m=\u001b[39;49m\u001b[43mestimator\u001b[49m\u001b[43m,\u001b[49m\n\u001b[1;32m    192\u001b[0m \u001b[43m        \u001b[49m\u001b[43mensure_2d\u001b[49m\u001b[38;5;241;43m=\u001b[39;49m\u001b[43mensure_2d\u001b[49m\u001b[43m,\u001b[49m\n\u001b[1;32m    193\u001b[0m \u001b[43m    \u001b[49m\u001b[43m)\u001b[49m\n\u001b[1;32m    194\u001b[0m     Y \u001b[38;5;241m=\u001b[39m check_array(\n\u001b[1;32m    195\u001b[0m         Y,\n\u001b[1;32m    196\u001b[0m         accept_sparse\u001b[38;5;241m=\u001b[39maccept_sparse,\n\u001b[0;32m   (...)\u001b[0m\n\u001b[1;32m    201\u001b[0m         ensure_2d\u001b[38;5;241m=\u001b[39mensure_2d,\n\u001b[1;32m    202\u001b[0m     )\n\u001b[1;32m    204\u001b[0m \u001b[38;5;28;01mif\u001b[39;00m precomputed:\n",
      "File \u001b[0;32m~/Downloads/cs/class/cs-450/spotify-cluster/venv/lib/python3.13/site-packages/sklearn/utils/validation.py:1087\u001b[0m, in \u001b[0;36mcheck_array\u001b[0;34m(array, accept_sparse, accept_large_sparse, dtype, order, copy, force_writeable, force_all_finite, ensure_2d, allow_nd, ensure_min_samples, ensure_min_features, estimator, input_name)\u001b[0m\n\u001b[1;32m   1085\u001b[0m     n_samples \u001b[38;5;241m=\u001b[39m _num_samples(array)\n\u001b[1;32m   1086\u001b[0m     \u001b[38;5;28;01mif\u001b[39;00m n_samples \u001b[38;5;241m<\u001b[39m ensure_min_samples:\n\u001b[0;32m-> 1087\u001b[0m         \u001b[38;5;28;01mraise\u001b[39;00m \u001b[38;5;167;01mValueError\u001b[39;00m(\n\u001b[1;32m   1088\u001b[0m             \u001b[38;5;124m\"\u001b[39m\u001b[38;5;124mFound array with \u001b[39m\u001b[38;5;132;01m%d\u001b[39;00m\u001b[38;5;124m sample(s) (shape=\u001b[39m\u001b[38;5;132;01m%s\u001b[39;00m\u001b[38;5;124m) while a\u001b[39m\u001b[38;5;124m\"\u001b[39m\n\u001b[1;32m   1089\u001b[0m             \u001b[38;5;124m\"\u001b[39m\u001b[38;5;124m minimum of \u001b[39m\u001b[38;5;132;01m%d\u001b[39;00m\u001b[38;5;124m is required\u001b[39m\u001b[38;5;132;01m%s\u001b[39;00m\u001b[38;5;124m.\u001b[39m\u001b[38;5;124m\"\u001b[39m\n\u001b[1;32m   1090\u001b[0m             \u001b[38;5;241m%\u001b[39m (n_samples, array\u001b[38;5;241m.\u001b[39mshape, ensure_min_samples, context)\n\u001b[1;32m   1091\u001b[0m         )\n\u001b[1;32m   1093\u001b[0m \u001b[38;5;28;01mif\u001b[39;00m ensure_min_features \u001b[38;5;241m>\u001b[39m \u001b[38;5;241m0\u001b[39m \u001b[38;5;129;01mand\u001b[39;00m array\u001b[38;5;241m.\u001b[39mndim \u001b[38;5;241m==\u001b[39m \u001b[38;5;241m2\u001b[39m:\n\u001b[1;32m   1094\u001b[0m     n_features \u001b[38;5;241m=\u001b[39m array\u001b[38;5;241m.\u001b[39mshape[\u001b[38;5;241m1\u001b[39m]\n",
      "\u001b[0;31mValueError\u001b[0m: Found array with 0 sample(s) (shape=(0, 11)) while a minimum of 1 is required by check_pairwise_arrays."
     ]
    }
   ],
   "source": [
    "# given a song, find the most similar song in the same cluster\n",
    "from sklearn.metrics.pairwise import euclidean_distances\n",
    "\n",
    "# find the 2nd closest song\n",
    "distances = euclidean_distances(cluster_points.iloc[:, 3:], [given_song])\n",
    "\n",
    "closest_song_indices = distances.flatten().argsort()\n",
    "\n",
    "second_closest_song_idx = closest_song_indices[1:10]\n",
    "print(\"Given song: \\\"\" + full_given_song[:3]['track_name'] + \"\\\" by\", full_given_song[:3]['artists'], \"| Genre:\", full_given_song[:3]['track_genre'])\n",
    "print(\"\\nSong Recommendations:\")\n",
    "print(\"=====================================\")\n",
    "\n",
    "pd.set_option('display.width', 1000)\n",
    "recommendations = cluster_points.iloc[second_closest_song_idx, :3]\n",
    "print(recommendations)"
   ]
  },
  {
   "cell_type": "code",
   "execution_count": null,
   "metadata": {},
   "outputs": [
    {
     "data": {
      "image/png": "[encoded data removed]",
      "text/plain": [
       "<Figure size 1200x800 with 9 Axes>"
      ]
     },
     "metadata": {},
     "output_type": "display_data"
    }
   ],
   "source": [
    "# plot histogram of the recommendations pd dataframe\n",
    "recs = cluster_points.iloc[second_closest_song_idx]\n",
    "recs.hist(figsize=(12, 8), bins=20)\n",
    "# label x-axis with song names\n",
    "plt.xticks(rotation=45)\n",
    "plt.xlabel('track_name')\n",
    "plt.tight_layout()\n",
    "plt.show()"
   ]
  },
  {
   "cell_type": "code",
   "execution_count": null,
   "metadata": {},
   "outputs": [],
   "source": [
    "# Filter only songs from the same genre\n",
    "cluster_points = cluster_points[dataset['track_genre'] == dataset.iloc[song_idx, 2]]"
   ]
  },
  {
   "cell_type": "code",
   "execution_count": null,
   "metadata": {},
   "outputs": [],
   "source": [
    "# Calculate distances\n",
    "distances = euclidean_distances([given_song], cluster_points)\n",
    "\n",
    "# Get indices of K closest data points\n",
    "k_closest_indices = distances.argsort(axis=1)[0][:4]\n",
    "\n",
    "# # Get K closest data points\n",
    "k_closest_points = cluster_points.iloc[k_closest_indices]\n",
    "\n",
    "# query the dataset for the closest songs based on the indices\n",
    "closest_songs = dataset.iloc[k_closest_indices]\n",
    "# print(closest_songs)"
   ]
  }
 ],
 "metadata": {
  "kernelspec": {
   "display_name": "venv",
   "language": "python",
   "name": "python3"
  },
  "language_info": {
   "codemirror_mode": {
    "name": "ipython",
    "version": 3
   },
   "file_extension": ".py",
   "mimetype": "text/x-python",
   "name": "python",
   "nbconvert_exporter": "python",
   "pygments_lexer": "ipython3",
   "version": "3.13.0"
  }
 },
 "nbformat": 4,
 "nbformat_minor": 2
}
