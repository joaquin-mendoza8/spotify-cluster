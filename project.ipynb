{
 "cells": [
  {
   "cell_type": "markdown",
   "metadata": {},
   "source": [
    "# PROJECT SECTIONS\n",
    "- Dataset & Preprocessing\n",
    "  - Fetching & Comparing Artist Genres w/ Spotify API\n",
    "  - Moving/Dropping Columns\n",
    "  - Scale Features\n",
    "- Principle Component Analysis (PCA)\n",
    "  - Apply on Features\n",
    "  - Researching a More Optimal Feature Set\n",
    "- Evalution Metrics\n",
    "  - Elbow-Method (Experimenting w/ k value)\n",
    "  - Silhouette Score ...\n",
    "- KMeans\n",
    "  - Fitting the Model\n",
    "  - Light Feature Engineering (Cluster #, Dist to Centroid)\n",
    "  - Cluster Subset & Filtering Output"
   ]
  },
  {
   "cell_type": "code",
   "execution_count": null,
   "metadata": {},
   "outputs": [],
   "source": [
    "# importing dependencies\n",
    "from datasets import load_dataset\n",
    "import pandas as pd\n",
    "from matplotlib import pyplot as plt\n",
    "import seaborn as sns\n",
    "from sklearn.preprocessing import StandardScaler\n",
    "from sklearn.decomposition import PCA\n",
    "from sklearn.cluster import KMeans\n",
    "from sklearn.metrics import silhouette_score\n",
    "import requests"
   ]
  },
  {
   "cell_type": "markdown",
   "metadata": {},
   "source": [
    "## Dataset & Preprocessing"
   ]
  },
  {
   "cell_type": "code",
   "execution_count": 2,
   "metadata": {},
   "outputs": [
    {
     "data": {
      "text/plain": [
       "[['acoustic'],\n",
       " ['afrobeat'],\n",
       " ['alt', 'rock'],\n",
       " ['alternative'],\n",
       " ['ambient'],\n",
       " ['anime'],\n",
       " ['black', 'metal'],\n",
       " ['bluegrass'],\n",
       " ['blues'],\n",
       " ['brazil'],\n",
       " ['breakbeat'],\n",
       " ['british'],\n",
       " ['cantopop'],\n",
       " ['chicago', 'house'],\n",
       " ['children'],\n",
       " ['chill'],\n",
       " ['classical'],\n",
       " ['club'],\n",
       " ['comedy'],\n",
       " ['country'],\n",
       " ['dance'],\n",
       " ['dancehall'],\n",
       " ['death', 'metal'],\n",
       " ['deep', 'house'],\n",
       " ['detroit', 'techno'],\n",
       " ['disco'],\n",
       " ['disney'],\n",
       " ['drum', 'and', 'bass'],\n",
       " ['dub'],\n",
       " ['dubstep'],\n",
       " ['edm'],\n",
       " ['electro'],\n",
       " ['electronic'],\n",
       " ['emo'],\n",
       " ['folk'],\n",
       " ['forro'],\n",
       " ['french'],\n",
       " ['funk'],\n",
       " ['garage'],\n",
       " ['german'],\n",
       " ['gospel'],\n",
       " ['goth'],\n",
       " ['grindcore'],\n",
       " ['groove'],\n",
       " ['grunge'],\n",
       " ['guitar'],\n",
       " ['happy'],\n",
       " ['hard', 'rock'],\n",
       " ['hardcore'],\n",
       " ['hardstyle'],\n",
       " ['heavy', 'metal'],\n",
       " ['hip', 'hop'],\n",
       " ['honky', 'tonk'],\n",
       " ['house'],\n",
       " ['idm'],\n",
       " ['indian'],\n",
       " ['indie', 'pop'],\n",
       " ['indie'],\n",
       " ['industrial'],\n",
       " ['iranian'],\n",
       " ['j', 'dance'],\n",
       " ['j', 'idol'],\n",
       " ['j', 'pop'],\n",
       " ['j', 'rock'],\n",
       " ['jazz'],\n",
       " ['k', 'pop'],\n",
       " ['kids'],\n",
       " ['latin'],\n",
       " ['latino'],\n",
       " ['malay'],\n",
       " ['mandopop'],\n",
       " ['metal'],\n",
       " ['metalcore'],\n",
       " ['minimal', 'techno'],\n",
       " ['mpb'],\n",
       " ['new', 'age'],\n",
       " ['opera'],\n",
       " ['pagode'],\n",
       " ['party'],\n",
       " ['piano'],\n",
       " ['pop', 'film'],\n",
       " ['pop'],\n",
       " ['power', 'pop'],\n",
       " ['progressive', 'house'],\n",
       " ['psych', 'rock'],\n",
       " ['punk', 'rock'],\n",
       " ['punk'],\n",
       " ['r', 'n', 'b'],\n",
       " ['reggae'],\n",
       " ['reggaeton'],\n",
       " ['rock', 'n', 'roll'],\n",
       " ['rock'],\n",
       " ['rockabilly'],\n",
       " ['romance'],\n",
       " ['sad'],\n",
       " ['salsa'],\n",
       " ['samba'],\n",
       " ['sertanejo'],\n",
       " ['show', 'tunes'],\n",
       " ['singer', 'songwriter'],\n",
       " ['ska'],\n",
       " ['sleep'],\n",
       " ['songwriter'],\n",
       " ['soul'],\n",
       " ['spanish'],\n",
       " ['study'],\n",
       " ['swedish'],\n",
       " ['synth', 'pop'],\n",
       " ['tango'],\n",
       " ['techno'],\n",
       " ['trance'],\n",
       " ['trip', 'hop'],\n",
       " ['turkish'],\n",
       " ['world', 'music']]"
      ]
     },
     "execution_count": 2,
     "metadata": {},
     "output_type": "execute_result"
    }
   ],
   "source": [
    "# loading from huggingface\n",
    "# dataset_hf = load_dataset(\"maharshipandya/spotify-tracks-dataset\")\n",
    "# dataset = pd.DataFrame(dataset_hf['train'])   #convert dataset to pandas dataframe\n",
    "\n",
    "#loading from local csv\n",
    "dataset = pd.read_csv('spotify-tracks-dataset.csv')\n",
    "\n",
    "# copy the dataset (for reference of original attributes)\n",
    "data = dataset.copy()\n",
    "\n",
    "# get genres from the dataset\n",
    "genres = data['track_genre'].unique()\n",
    "genres\n",
    "\n",
    "# format genres to be searchable by keywords\n",
    "genres_searchable = []\n",
    "for genre in genres:\n",
    "    if '-' in genre:    # format hyphenated genres into lists of strings\n",
    "        genres_searchable.append(genre.split('-'))\n",
    "    else:\n",
    "        genres_searchable.append([genre])\n",
    "genres_searchable\n",
    "        \n"
   ]
  },
  {
   "cell_type": "markdown",
   "metadata": {},
   "source": [
    "#### Authenticating to Spotify"
   ]
  },
  {
   "cell_type": "code",
   "execution_count": 5,
   "metadata": {},
   "outputs": [
    {
     "name": "stdout",
     "output_type": "stream",
     "text": [
      "Token successfully fetched and saved.\n",
      "Token loaded successfully and ready for use.\n"
     ]
    }
   ],
   "source": [
    "from dotenv import load_dotenv\n",
    "import os\n",
    "import requests\n",
    "import json\n",
    "\n",
    "# Load environment variables\n",
    "load_dotenv()\n",
    "client_id = os.getenv('SPOTIFY_CLIENT_ID')\n",
    "client_secret = os.getenv('SPOTIFY_CLIENT_SECRET')\n",
    "\n",
    "if not client_id or not client_secret:\n",
    "    raise ValueError(\"SPOTIFY_CLIENT_ID or SPOTIFY_CLIENT_SECRET not set in .env file\")\n",
    "\n",
    "# Request token from Spotify API\n",
    "url = \"https://accounts.spotify.com/api/token\"\n",
    "try:\n",
    "    # Send POST request for token\n",
    "    auth_response = requests.post(\n",
    "        url,\n",
    "        headers={\"Content-Type\": \"application/x-www-form-urlencoded\"},\n",
    "        data={\"grant_type\": \"client_credentials\"},\n",
    "        auth=(client_id, client_secret),\n",
    "    )\n",
    "\n",
    "    # Check if the response is successful\n",
    "    if auth_response.status_code == 200:\n",
    "        token_data = auth_response.json()\n",
    "        \n",
    "        # Save token to JSON file\n",
    "        with open(\"token.json\", \"w\") as file:\n",
    "            json.dump(token_data, file)\n",
    "        print(\"Token successfully fetched and saved.\")\n",
    "    else:\n",
    "        print(\"Error fetching token:\", auth_response.status_code, auth_response.text)\n",
    "        exit()\n",
    "\n",
    "except requests.exceptions.RequestException as e:\n",
    "    print(\"Error during token request:\", str(e))\n",
    "    exit()\n",
    "\n",
    "# Load token from JSON and validate\n",
    "try:\n",
    "    with open('token.json', 'r') as file:\n",
    "        token_data = json.load(file)\n",
    "        token = token_data.get('access_token')\n",
    "        token_type = token_data.get('token_type')\n",
    "\n",
    "        if not token or not token_type:\n",
    "            raise ValueError(\"Access token or token type not found in the response\")\n",
    "\n",
    "        # Validation successful, do not print sensitive details\n",
    "        print(\"Token loaded successfully and ready for use.\")\n",
    "\n",
    "except FileNotFoundError:\n",
    "    print(\"Error: token.json file not found\")\n",
    "except ValueError as e:\n",
    "    print(\"Error parsing token:\", str(e))\n",
    "except json.JSONDecodeError:\n",
    "    print(\"Error decoding JSON file\")\n",
    "\n"
   ]
  },
  {
   "cell_type": "markdown",
   "metadata": {},
   "source": [
    "#### Define Track/Song (via API)"
   ]
  },
  {
   "cell_type": "code",
   "execution_count": 4,
   "metadata": {},
   "outputs": [],
   "source": [
    "# test track audio features\n",
    "track_id = '3SktMqZmo3M9zbB7oKMIF7'\n",
    "aud_features_url = \"https://api.spotify.com/v1/audio-features/\"\n",
    "\n",
    "aud_features_json = requests.get(aud_features_url + track_id, headers={'Authorization': f'{token_type} {token}'}).json()"
   ]
  },
  {
   "cell_type": "code",
   "execution_count": 5,
   "metadata": {},
   "outputs": [
    {
     "data": {
      "text/plain": [
       "('Gravity', 'John Mayer')"
      ]
     },
     "execution_count": 5,
     "metadata": {},
     "output_type": "execute_result"
    }
   ],
   "source": [
    "# test get track\n",
    "track_url = \"https://api.spotify.com/v1/tracks/\"\n",
    "\n",
    "# get track json data\n",
    "track_json = requests.get(track_url + track_id, headers={'Authorization': f'{token_type} {token}'}).json()\n",
    "\n",
    "# extract track artists and name\n",
    "track_artists_list = [artist['name'] for artist in track_json['artists']]\n",
    "track_artists_str = ', '.join(track_artists_list)\n",
    "track_name = track_json['name']\n",
    "artist_id = track_json['artists'][0]['id']\n",
    "track_name, track_artists_str"
   ]
  },
  {
   "cell_type": "markdown",
   "metadata": {},
   "source": [
    "#### Fetch Track Artist's Genres"
   ]
  },
  {
   "cell_type": "code",
   "execution_count": 6,
   "metadata": {},
   "outputs": [
    {
     "name": "stdout",
     "output_type": "stream",
     "text": [
      "artist_genres_words: ['mellow', 'singer-songwriter', 'neo']\n",
      "GENRES IN DATASET & ASSOCIATED W/ TRACK ARTIST: \n",
      "singer-songwriter\n"
     ]
    }
   ],
   "source": [
    "# TODO: See if genres_searchable is preventing matches \n",
    "# TODO: Ensure multi-artist tracks include all genres\n",
    "\n",
    "artist_url = \"https://api.spotify.com/v1/artists/\"\n",
    "\n",
    "# get album json data\n",
    "artist_json = requests.get(artist_url + artist_id, headers={'Authorization': f'{token_type} {token}'}).json()\n",
    "artist_genres = artist_json['genres']\n",
    "\n",
    "# separate words in artist genres\n",
    "artist_genres_words = [genre.split() for genre in artist_genres]\n",
    "\n",
    "# flatten list\n",
    "artist_genres_words = list(set([word for genre in artist_genres_words for word in genre]))\n",
    "print(f\"artist_genres_words: {artist_genres_words}\") # TODO: fix\n",
    "\n",
    "# print genres that are in the dataset\n",
    "genre_response = 'GENRES IN DATASET & ASSOCIATED W/ TRACK ARTIST: '\n",
    "for word in artist_genres_words:\n",
    "    if word in genres:\n",
    "        genre_response += '\\n' + word\n",
    "print(genre_response)"
   ]
  },
  {
   "cell_type": "markdown",
   "metadata": {},
   "source": [
    "#### Drop & Move Columns"
   ]
  },
  {
   "cell_type": "code",
   "execution_count": 7,
   "metadata": {},
   "outputs": [
    {
     "name": "stdout",
     "output_type": "stream",
     "text": [
      "                   track_name                 artists track_genre  \\\n",
      "0                      Comedy             Gen Hoshino    acoustic   \n",
      "1            Ghost - Acoustic            Ben Woodward    acoustic   \n",
      "2              To Begin Again  Ingrid Michaelson;ZAYN    acoustic   \n",
      "3  Can't Help Falling In Love            Kina Grannis    acoustic   \n",
      "4                     Hold On        Chord Overstreet    acoustic   \n",
      "\n",
      "                 track_id  popularity  danceability  energy  key  speechiness  \\\n",
      "0  5SuOikwiRyPMVoIQDJUgSV          73         0.676  0.4610    1       0.1430   \n",
      "1  4qPNDBW1i3p13qLCt0Ki3A          55         0.420  0.1660    1       0.0763   \n",
      "2  1iJBSr7s7jYXzM8EGcbK5b          57         0.438  0.3590    0       0.0557   \n",
      "3  6lfxq3CG4xtTiEg7opyCyx          71         0.266  0.0596    0       0.0363   \n",
      "4  5vjLSffimiIP26QG5WcN2K          82         0.618  0.4430    2       0.0526   \n",
      "\n",
      "   acousticness  liveness    tempo  \n",
      "0        0.0322    0.3580   87.917  \n",
      "1        0.9240    0.1010   77.489  \n",
      "2        0.2100    0.1170   76.332  \n",
      "3        0.9050    0.1320  181.740  \n",
      "4        0.4690    0.0829  119.949  \n"
     ]
    }
   ],
   "source": [
    "# unnecessary columns TODO: Check Train Dataset for Columns or Features\n",
    "# Filter only columns that exist in the DataFrame\n",
    "cols_to_drop = ['Unnamed: 0', 'album_name', 'loudness', 'explicit', \n",
    "                'time_signature', 'instrumentalness', 'duration_ms', \n",
    "                'mode', 'valence']\n",
    "\n",
    "# Drop only existing columns\n",
    "existing_cols_to_drop = [col for col in cols_to_drop if col in dataset.columns]\n",
    "dataset.drop(existing_cols_to_drop, axis=1, inplace=True)\n",
    "\n",
    "# Drop duplicates (tracks with the same track_id)\n",
    "dataset.drop_duplicates(subset='track_id', keep='first', inplace=True)\n",
    "dataset.drop_duplicates(subset='track_name', keep='first', inplace=True)\n",
    "\n",
    "# Reorder columns based on position_map\n",
    "position_map = {\n",
    "    \"track_name\": 0,\n",
    "    \"artists\": 1,\n",
    "    \"track_genre\": 2,\n",
    "    \"track_id\": 3\n",
    "}\n",
    "\n",
    "for attribute, position in position_map.items():\n",
    "    if attribute in dataset.columns:  # Ensure column exists before reordering\n",
    "        col_data = dataset.pop(attribute)\n",
    "        dataset.insert(position, attribute, col_data)\n",
    "\n",
    "# Print first 5 rows\n",
    "print(dataset.head())"
   ]
  },
  {
   "cell_type": "markdown",
   "metadata": {},
   "source": [
    "## Principle Component Analysis (PCA)"
   ]
  },
  {
   "cell_type": "markdown",
   "metadata": {},
   "source": [
    "#### Feature Scaling"
   ]
  },
  {
   "cell_type": "code",
   "execution_count": 8,
   "metadata": {},
   "outputs": [],
   "source": [
    "from sklearn.preprocessing import StandardScaler\n",
    "\n",
    "# Select numeric columns to scale (excluding the first few or categorical columns)\n",
    "numeric_columns = dataset.columns[4:]  # Replace with explicit names if possible\n",
    "\n",
    "# Ensure columns are numeric\n",
    "dataset[numeric_columns] = dataset[numeric_columns].apply(pd.to_numeric, errors='coerce')\n",
    "\n",
    "# Feature scale the selected columns\n",
    "scaler = StandardScaler()\n",
    "dataset[numeric_columns] = scaler.fit_transform(dataset[numeric_columns])\n"
   ]
  },
  {
   "cell_type": "markdown",
   "metadata": {},
   "source": [
    "#### Applying PCA"
   ]
  },
  {
   "cell_type": "code",
   "execution_count": 10,
   "metadata": {},
   "outputs": [
    {
     "name": "stdout",
     "output_type": "stream",
     "text": [
      "Explained variance ratio: [0.24219015 0.15994363]\n",
      "Total variance explained: 0.4021337835919608\n",
      "        PC1       PC2\n",
      "0 -0.032073 -0.087487\n",
      "1 -3.074955 -0.140430\n",
      "2 -1.307525 -0.557566\n",
      "3 -2.398794 -0.687796\n",
      "4 -0.875123 -1.416178\n"
     ]
    }
   ],
   "source": [
    "from sklearn.decomposition import PCA\n",
    "\n",
    "# Create a PCA instance with 2 components\n",
    "pca_2d = PCA(n_components=2)\n",
    "\n",
    "# Apply PCA to the scaled numeric data\n",
    "pca_transformed_data_2d = pca_2d.fit_transform(scaled_data)\n",
    "\n",
    "# Analyze the reduced data\n",
    "print(f\"Explained variance ratio: {pca_2d.explained_variance_ratio_}\")\n",
    "print(f\"Total variance explained: {sum(pca_2d.explained_variance_ratio_)}\")\n",
    "\n",
    "# Convert to a DataFrame\n",
    "pca_2d_df = pd.DataFrame(pca_transformed_data_2d, columns=['PC1', 'PC2'])\n",
    "print(pca_2d_df.head())  # Preview the reduced dataset\n"
   ]
  },
  {
   "cell_type": "code",
   "execution_count": null,
   "metadata": {},
   "outputs": [],
   "source": []
  },
  {
   "cell_type": "markdown",
   "metadata": {},
   "source": [
    "## Evalution Metrics"
   ]
  },
  {
   "cell_type": "markdown",
   "metadata": {},
   "source": [
    "#### Elbow Method"
   ]
  },
  {
   "cell_type": "code",
   "execution_count": 11,
   "metadata": {
    "scrolled": true
   },
   "outputs": [],
   "source": [
    "X_pca = pca_transformed_data_2d\n",
    "\n",
    "# Perform clustering for a range of cluster numbers\n",
    "inertia = []  # To store the sum of squared distances (inertia)\n",
    "K = range(1, 11)  # Number of clusters to try\n",
    "\n",
    "for k in K:\n",
    "    kmeans = KMeans(n_clusters=k, random_state=42)\n",
    "    kmeans.fit(X_pca)\n",
    "    inertia.append(kmeans.inertia_)"
   ]
  },
  {
   "cell_type": "code",
   "execution_count": 12,
   "metadata": {
    "scrolled": true
   },
   "outputs": [
    {
     "data": {
      "image/png": "[encoded data removed]",
      "text/plain": [
       "<Figure size 800x500 with 1 Axes>"
      ]
     },
     "metadata": {},
     "output_type": "display_data"
    }
   ],
   "source": [
    "# Plotting Elbow Method\n",
    "plt.figure(figsize=(8, 5))\n",
    "plt.plot(K, inertia, marker='o', linestyle='--', color='b')\n",
    "plt.xlabel('Number of Clusters (k)', fontsize=14)\n",
    "plt.ylabel('Inertia (Sum of Squared Distances)', fontsize=14)\n",
    "plt.title('Elbow Method for Optimal k', fontsize=16)\n",
    "plt.xticks(K)\n",
    "plt.grid(True)\n",
    "plt.show()"
   ]
  },
  {
   "cell_type": "markdown",
   "metadata": {
    "jp-MarkdownHeadingCollapsed": true
   },
   "source": [
    "##### Elbow at 3 clusters I think?"
   ]
  },
  {
   "cell_type": "markdown",
   "metadata": {},
   "source": [
    "#### Silhouette Score"
   ]
  },
  {
   "cell_type": "code",
   "execution_count": 14,
   "metadata": {},
   "outputs": [],
   "source": [
    "from sklearn.utils import resample\n",
    "\n",
    "# Reduce the size of the dataset for silhouette computation\n",
    "sampled_X_pca = resample(X_pca, n_samples=5000, random_state=42)  # Adjust n_samples as needed\n",
    "\n",
    "# Recalculate silhouette scores with sampled data\n",
    "silhouette_scores = []\n",
    "for k in range(2, 11):\n",
    "    kmeans = KMeans(n_clusters=k, random_state=42)\n",
    "    labels = kmeans.fit_predict(sampled_X_pca)\n",
    "    score = silhouette_score(sampled_X_pca, labels)\n",
    "    silhouette_scores.append(score)\n"
   ]
  },
  {
   "cell_type": "code",
   "execution_count": 17,
   "metadata": {},
   "outputs": [
    {
     "data": {
      "image/png": "[encoded data removed]",
      "text/plain": [
       "<Figure size 800x500 with 1 Axes>"
      ]
     },
     "metadata": {},
     "output_type": "display_data"
    }
   ],
   "source": [
    "# Step 3: Plot silhouette scores\n",
    "plt.figure(figsize=(8, 5))\n",
    "plt.plot(range(2, 11), silhouette_scores, marker='o', linestyle='--', color='g')\n",
    "plt.xlabel('Number of Clusters (k)', fontsize=14)\n",
    "plt.ylabel('Silhouette Score', fontsize=14)\n",
    "plt.title('Silhouette Analysis for Optimal k', fontsize=16)\n",
    "plt.xticks(range(2, 11))\n",
    "plt.grid(True)\n",
    "plt.show()\n"
   ]
  },
  {
   "cell_type": "markdown",
   "metadata": {},
   "source": [
    "#### TODO (Optional): Davies Bouldin Index"
   ]
  },
  {
   "cell_type": "markdown",
   "metadata": {},
   "source": [
    "## KMeans"
   ]
  },
  {
   "cell_type": "markdown",
   "metadata": {},
   "source": [
    "## Sort Dataset by Cluster & Distance-to-Cluster\n"
   ]
  },
  {
   "cell_type": "code",
   "execution_count": null,
   "metadata": {},
   "outputs": [],
   "source": [
    "# add a column to the dataset for the cluster number and distance from the centroid\n",
    "dataset['cluster'] = pred_y\n",
    "dataset['distance'] = kmeans.fit_transform(data_pca).min(axis=1)\n",
    "\n",
    "# sort the dataset by cluster and distance\n",
    "dataset = dataset.sort_values(by=['cluster', 'distance'])\n",
    "\n",
    "# print the first 10 rows\n",
    "dataset.head(10)\n"
   ]
  },
  {
   "cell_type": "markdown",
   "metadata": {},
   "source": [
    "# Song Recommendations"
   ]
  },
  {
   "cell_type": "code",
   "execution_count": null,
   "metadata": {},
   "outputs": [],
   "source": [
    "# search for song's full data using the track_id\n",
    "song_matches = dataset[dataset['track_id'] == track_id]\n",
    "\n",
    "# get the first occurrence\n",
    "full_given_song = song_matches.loc[song_matches.first_valid_index()]\n",
    "\n",
    "# save the numerical data in a separate variable\n",
    "given_song = full_given_song[4:].astype(float)\n",
    "\n",
    "# print the full given song data\n",
    "print(f\"DATA FROM: {track_name} by {track_artists_str}\")\n",
    "given_song"
   ]
  },
  {
   "cell_type": "markdown",
   "metadata": {},
   "source": [
    "## Initial Cluster Points & Filtering"
   ]
  },
  {
   "cell_type": "code",
   "execution_count": null,
   "metadata": {},
   "outputs": [],
   "source": [
    "# find the closest centroid\n",
    "\n",
    "# get the index of the closest centroid\n",
    "closest_centroid_idx = int(given_song['cluster'])\n",
    "\n",
    "# get the coordinates of the closest centroid\n",
    "closest_centroid = kmeans.cluster_centers_[closest_centroid_idx]\n",
    "\n",
    "# Find data points belonging to the closest cluster\n",
    "cluster_points = dataset.iloc[:, :][kmeans.labels_ == closest_centroid_idx]\n",
    "\n",
    "# Remove the given song from the closest cluster if it exists\n",
    "cluster_points = cluster_points[cluster_points['track_name'] != full_given_song['track_name']]\n",
    "\n",
    "# Only consider songs of the same genre\n",
    "# TODO: create clusters of genres that are similar and only from the that cluster\n",
    "cluster_points = cluster_points[cluster_points['track_genre'] == full_given_song['track_genre']]\n",
    "\n",
    "# print the amount of songs filtered\n",
    "print(cluster_points.shape)\n",
    "\n",
    "cluster_points.head(10)"
   ]
  }
 ],
 "metadata": {
  "kernelspec": {
   "display_name": "venv",
   "language": "python",
   "name": "python3"
  },
  "language_info": {
   "codemirror_mode": {
    "name": "ipython",
    "version": 3
   },
   "file_extension": ".py",
   "mimetype": "text/x-python",
   "name": "python",
   "nbconvert_exporter": "python",
   "pygments_lexer": "ipython3",
   "version": "3.13.0"
  }
 },
 "nbformat": 4,
 "nbformat_minor": 4
}
