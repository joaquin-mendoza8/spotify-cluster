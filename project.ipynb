{
 "cells": [
  {
   "cell_type": "markdown",
   "metadata": {},
   "source": [
    "# PROJECT SECTIONS\n",
    "- Dataset & Preprocessing\n",
    "  - Fetching & Comparing Artist Genres w/ Spotify API\n",
    "  - Moving/Dropping Columns\n",
    "  - Scale Features\n",
    "- Principle Component Analysis (PCA)\n",
    "  - Apply on Features\n",
    "  - Researching a More Optimal Feature Set\n",
    "- Evalution Metrics\n",
    "  - Elbow-Method (Experimenting w/ k value)\n",
    "  - Silhouette Score ...\n",
    "- KMeans\n",
    "  - Fitting the Model\n",
    "  - Light Feature Engineering (Cluster #, Dist to Centroid)\n",
    "  - Cluster Subset & Filtering Output"
   ]
  },
  {
   "cell_type": "markdown",
   "metadata": {},
   "source": [
    "## Dataset & Preprocessing"
   ]
  },
  {
   "cell_type": "markdown",
   "metadata": {},
   "source": [
    "## Principle Component Analysis (PCA)"
   ]
  },
  {
   "cell_type": "markdown",
   "metadata": {},
   "source": [
    "## Evalution Metrics"
   ]
  },
  {
   "cell_type": "markdown",
   "metadata": {},
   "source": [
    "## KMeans"
   ]
  }
 ],
 "metadata": {
  "language_info": {
   "name": "python"
  }
 },
 "nbformat": 4,
 "nbformat_minor": 2
}
