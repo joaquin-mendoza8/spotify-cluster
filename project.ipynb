{
 "cells": [
  {
   "cell_type": "markdown",
   "metadata": {},
   "source": [
    "# PROJECT SECTIONS\n",
    "- Dataset & Preprocessing\n",
    "  - Fetching & Comparing Artist Genres w/ Spotify API\n",
    "  - Moving/Dropping Columns\n",
    "  - Scale Features\n",
    "- Principle Component Analysis (PCA)\n",
    "  - Apply on Features\n",
    "  - Researching a More Optimal Feature Set\n",
    "- Evalution Metrics\n",
    "  - Elbow-Method (Experimenting w/ k value)\n",
    "  - Silhouette Score ...\n",
    "- KMeans\n",
    "  - Fitting the Model\n",
    "  - Light Feature Engineering (Cluster #, Dist to Centroid)\n",
    "  - Cluster Subset & Filtering Output"
   ]
  },
  {
   "cell_type": "code",
   "execution_count": null,
   "metadata": {},
   "outputs": [
    {
     "name": "stderr",
     "output_type": "stream",
     "text": [
      "/Users/iangower/Desktop/Old HW/spotify-cluster/venv/lib/python3.11/site-packages/tqdm/auto.py:21: TqdmWarning: IProgress not found. Please update jupyter and ipywidgets. See https://ipywidgets.readthedocs.io/en/stable/user_install.html\n",
      "  from .autonotebook import tqdm as notebook_tqdm\n"
     ]
    }
   ],
   "source": [
    "# importing dependencies\n",
    "from datasets import load_dataset\n",
    "import pandas as pd\n",
    "from matplotlib import pyplot as plt\n",
    "import seaborn as sns\n",
    "from sklearn.preprocessing import StandardScaler\n",
    "from sklearn.decomposition import PCA\n",
    "from sklearn.cluster import KMeans\n",
    "from sklearn.metrics import silhouette_score\n",
    "import requests"
   ]
  },
  {
   "cell_type": "markdown",
   "metadata": {},
   "source": [
    "## Dataset & Preprocessing"
   ]
  },
  {
   "cell_type": "code",
   "execution_count": null,
   "metadata": {},
   "outputs": [
    {
     "data": {
      "text/plain": [
       "[['acoustic'],\n",
       " ['afrobeat'],\n",
       " ['alt', 'rock'],\n",
       " ['alternative'],\n",
       " ['ambient'],\n",
       " ['anime'],\n",
       " ['black', 'metal'],\n",
       " ['bluegrass'],\n",
       " ['blues'],\n",
       " ['brazil'],\n",
       " ['breakbeat'],\n",
       " ['british'],\n",
       " ['cantopop'],\n",
       " ['chicago', 'house'],\n",
       " ['children'],\n",
       " ['chill'],\n",
       " ['classical'],\n",
       " ['club'],\n",
       " ['comedy'],\n",
       " ['country'],\n",
       " ['dance'],\n",
       " ['dancehall'],\n",
       " ['death', 'metal'],\n",
       " ['deep', 'house'],\n",
       " ['detroit', 'techno'],\n",
       " ['disco'],\n",
       " ['disney'],\n",
       " ['drum', 'and', 'bass'],\n",
       " ['dub'],\n",
       " ['dubstep'],\n",
       " ['edm'],\n",
       " ['electro'],\n",
       " ['electronic'],\n",
       " ['emo'],\n",
       " ['folk'],\n",
       " ['forro'],\n",
       " ['french'],\n",
       " ['funk'],\n",
       " ['garage'],\n",
       " ['german'],\n",
       " ['gospel'],\n",
       " ['goth'],\n",
       " ['grindcore'],\n",
       " ['groove'],\n",
       " ['grunge'],\n",
       " ['guitar'],\n",
       " ['happy'],\n",
       " ['hard', 'rock'],\n",
       " ['hardcore'],\n",
       " ['hardstyle'],\n",
       " ['heavy', 'metal'],\n",
       " ['hip', 'hop'],\n",
       " ['honky', 'tonk'],\n",
       " ['house'],\n",
       " ['idm'],\n",
       " ['indian'],\n",
       " ['indie', 'pop'],\n",
       " ['indie'],\n",
       " ['industrial'],\n",
       " ['iranian'],\n",
       " ['j', 'dance'],\n",
       " ['j', 'idol'],\n",
       " ['j', 'pop'],\n",
       " ['j', 'rock'],\n",
       " ['jazz'],\n",
       " ['k', 'pop'],\n",
       " ['kids'],\n",
       " ['latin'],\n",
       " ['latino'],\n",
       " ['malay'],\n",
       " ['mandopop'],\n",
       " ['metal'],\n",
       " ['metalcore'],\n",
       " ['minimal', 'techno'],\n",
       " ['mpb'],\n",
       " ['new', 'age'],\n",
       " ['opera'],\n",
       " ['pagode'],\n",
       " ['party'],\n",
       " ['piano'],\n",
       " ['pop', 'film'],\n",
       " ['pop'],\n",
       " ['power', 'pop'],\n",
       " ['progressive', 'house'],\n",
       " ['psych', 'rock'],\n",
       " ['punk', 'rock'],\n",
       " ['punk'],\n",
       " ['r', 'n', 'b'],\n",
       " ['reggae'],\n",
       " ['reggaeton'],\n",
       " ['rock', 'n', 'roll'],\n",
       " ['rock'],\n",
       " ['rockabilly'],\n",
       " ['romance'],\n",
       " ['sad'],\n",
       " ['salsa'],\n",
       " ['samba'],\n",
       " ['sertanejo'],\n",
       " ['show', 'tunes'],\n",
       " ['singer', 'songwriter'],\n",
       " ['ska'],\n",
       " ['sleep'],\n",
       " ['songwriter'],\n",
       " ['soul'],\n",
       " ['spanish'],\n",
       " ['study'],\n",
       " ['swedish'],\n",
       " ['synth', 'pop'],\n",
       " ['tango'],\n",
       " ['techno'],\n",
       " ['trance'],\n",
       " ['trip', 'hop'],\n",
       " ['turkish'],\n",
       " ['world', 'music']]"
      ]
     },
     "execution_count": 23,
     "metadata": {},
     "output_type": "execute_result"
    }
   ],
   "source": [
    "# loading from huggingface\n",
    "# dataset_hf = load_dataset(\"maharshipandya/spotify-tracks-dataset\")\n",
    "# dataset = pd.DataFrame(dataset_hf['train'])   #convert dataset to pandas dataframe\n",
    "\n",
    "#loading from local csv\n",
    "dataset = pd.read_csv('spotify-tracks-dataset.csv')\n",
    "\n",
    "# copy the dataset (for reference of original attributes)\n",
    "data = dataset.copy()\n",
    "\n",
    "# get genres from the dataset\n",
    "genres = data['track_genre'].unique()\n",
    "genres\n",
    "\n",
    "# format genres to be searchable by keywords\n",
    "genres_searchable = []\n",
    "for genre in genres:\n",
    "    if '-' in genre:    # format hyphenated genres into lists of strings\n",
    "        genres_searchable.append(genre.split('-'))\n",
    "    else:\n",
    "        genres_searchable.append([genre])\n",
    "genres_searchable\n",
    "        \n"
   ]
  },
  {
   "cell_type": "markdown",
   "metadata": {},
   "source": [
    "#### Authenticating to Spotify"
   ]
  },
  {
   "cell_type": "code",
   "execution_count": null,
   "metadata": {},
   "outputs": [
    {
     "name": "stdout",
     "output_type": "stream",
     "text": [
      "  % Total    % Received % Xferd  Average Speed   Time    Time     Time  Current\n",
      "                                 Dload  Upload   Total   Spent    Left  Speed\n",
      "100   293  100   174  100   119    564    385 --:--:-- --:--:-- --:--:--   951\n"
     ]
    }
   ],
   "source": [
    "# load environment variables from .env file\n",
    "from dotenv import load_dotenv\n",
    "import os\n",
    "load_dotenv()\n",
    "\n",
    "# auth spotify api\n",
    "client_id = os.getenv('SPOTIFY_CLIENT_ID')\n",
    "client_secret = os.getenv('SPOTIFY_CLIENT_SECRET')\n",
    "auth_cmd = f\"curl -X POST 'https://accounts.spotify.com/api/token' \\\n",
    "     -H 'Content-Type: application/x-www-form-urlencoded' \\\n",
    "     -d 'grant_type=client_credentials&client_id={client_id}&client_secret={client_secret}'\"\n",
    "\n",
    "# saving token to JSON file\n",
    "! {auth_cmd} > token.json\n",
    "\n",
    "# loading the token into a python variable\n",
    "with open('token.json', 'r') as file:\n",
    "    token_json = file.read()\n",
    "    token = token_json.split('\"')[3]\n",
    "    token_type = token_json.split('\"')[7]"
   ]
  },
  {
   "cell_type": "markdown",
   "metadata": {},
   "source": [
    "#### Define Track/Song (via API)"
   ]
  },
  {
   "cell_type": "code",
   "execution_count": null,
   "metadata": {},
   "outputs": [],
   "source": [
    "# test track audio features\n",
    "track_id = '7xcqbjV2NfxlnJzqdRuO7E'\n",
    "aud_features_url = \"https://api.spotify.com/v1/audio-features/\"\n",
    "\n",
    "aud_features_json = requests.get(aud_features_url + track_id, headers={'Authorization': f'{token_type} {token}'}).json()"
   ]
  },
  {
   "cell_type": "code",
   "execution_count": null,
   "metadata": {},
   "outputs": [
    {
     "data": {
      "text/plain": [
       "('Odd Look', 'Kavinsky, The Weeknd')"
      ]
     },
     "execution_count": 6,
     "metadata": {},
     "output_type": "execute_result"
    }
   ],
   "source": [
    "# test get track\n",
    "track_url = \"https://api.spotify.com/v1/tracks/\"\n",
    "\n",
    "# get track json data\n",
    "track_json = requests.get(track_url + track_id, headers={'Authorization': f'{token_type} {token}'}).json()\n",
    "\n",
    "# extract track artists and name\n",
    "track_artists_list = [artist['name'] for artist in track_json['artists']]\n",
    "track_artists_str = ', '.join(track_artists_list)\n",
    "track_name = track_json['name']\n",
    "artist_id = track_json['artists'][0]['id']\n",
    "track_name, track_artists_str"
   ]
  },
  {
   "cell_type": "markdown",
   "metadata": {},
   "source": [
    "#### Fetch Track Artist's Genres"
   ]
  },
  {
   "cell_type": "code",
   "execution_count": null,
   "metadata": {},
   "outputs": [
    {
     "name": "stdout",
     "output_type": "stream",
     "text": [
      "artist_genres_words: ['house', 'filter']\n",
      "GENRES IN DATASET & ASSOCIATED W/ TRACK ARTIST: \n",
      "house\n"
     ]
    }
   ],
   "source": [
    "# TODO: See if genres_searchable is preventing matches \n",
    "# TODO: Ensure multi-artist tracks include all genres\n",
    "\n",
    "artist_url = \"https://api.spotify.com/v1/artists/\"\n",
    "\n",
    "# get album json data\n",
    "artist_json = requests.get(artist_url + artist_id, headers={'Authorization': f'{token_type} {token}'}).json()\n",
    "artist_genres = artist_json['genres']\n",
    "\n",
    "# separate words in artist genres\n",
    "artist_genres_words = [genre.split() for genre in artist_genres]\n",
    "\n",
    "# flatten list\n",
    "artist_genres_words = list(set([word for genre in artist_genres_words for word in genre]))\n",
    "print(f\"artist_genres_words: {artist_genres_words}\") # TODO: fix\n",
    "\n",
    "# print genres that are in the dataset\n",
    "genre_response = 'GENRES IN DATASET & ASSOCIATED W/ TRACK ARTIST: '\n",
    "for word in artist_genres_words:\n",
    "    if word in genres:\n",
    "        genre_response += '\\n' + word\n",
    "print(genre_response)"
   ]
  },
  {
   "cell_type": "markdown",
   "metadata": {},
   "source": [
    "#### Drop & Move Columns"
   ]
  },
  {
   "cell_type": "code",
   "execution_count": null,
   "metadata": {},
   "outputs": [
    {
     "data": {
      "text/html": [
       "<div>\n",
       "<style scoped>\n",
       "    .dataframe tbody tr th:only-of-type {\n",
       "        vertical-align: middle;\n",
       "    }\n",
       "\n",
       "    .dataframe tbody tr th {\n",
       "        vertical-align: top;\n",
       "    }\n",
       "\n",
       "    .dataframe thead th {\n",
       "        text-align: right;\n",
       "    }\n",
       "</style>\n",
       "<table border=\"1\" class=\"dataframe\">\n",
       "  <thead>\n",
       "    <tr style=\"text-align: right;\">\n",
       "      <th></th>\n",
       "      <th>track_name</th>\n",
       "      <th>artists</th>\n",
       "      <th>track_genre</th>\n",
       "      <th>track_id</th>\n",
       "      <th>popularity</th>\n",
       "      <th>danceability</th>\n",
       "      <th>energy</th>\n",
       "      <th>key</th>\n",
       "      <th>speechiness</th>\n",
       "      <th>acousticness</th>\n",
       "      <th>liveness</th>\n",
       "      <th>tempo</th>\n",
       "    </tr>\n",
       "  </thead>\n",
       "  <tbody>\n",
       "    <tr>\n",
       "      <th>0</th>\n",
       "      <td>Comedy</td>\n",
       "      <td>Gen Hoshino</td>\n",
       "      <td>acoustic</td>\n",
       "      <td>5SuOikwiRyPMVoIQDJUgSV</td>\n",
       "      <td>73</td>\n",
       "      <td>0.676</td>\n",
       "      <td>0.4610</td>\n",
       "      <td>1</td>\n",
       "      <td>0.1430</td>\n",
       "      <td>0.0322</td>\n",
       "      <td>0.3580</td>\n",
       "      <td>87.917</td>\n",
       "    </tr>\n",
       "    <tr>\n",
       "      <th>1</th>\n",
       "      <td>Ghost - Acoustic</td>\n",
       "      <td>Ben Woodward</td>\n",
       "      <td>acoustic</td>\n",
       "      <td>4qPNDBW1i3p13qLCt0Ki3A</td>\n",
       "      <td>55</td>\n",
       "      <td>0.420</td>\n",
       "      <td>0.1660</td>\n",
       "      <td>1</td>\n",
       "      <td>0.0763</td>\n",
       "      <td>0.9240</td>\n",
       "      <td>0.1010</td>\n",
       "      <td>77.489</td>\n",
       "    </tr>\n",
       "    <tr>\n",
       "      <th>2</th>\n",
       "      <td>To Begin Again</td>\n",
       "      <td>Ingrid Michaelson;ZAYN</td>\n",
       "      <td>acoustic</td>\n",
       "      <td>1iJBSr7s7jYXzM8EGcbK5b</td>\n",
       "      <td>57</td>\n",
       "      <td>0.438</td>\n",
       "      <td>0.3590</td>\n",
       "      <td>0</td>\n",
       "      <td>0.0557</td>\n",
       "      <td>0.2100</td>\n",
       "      <td>0.1170</td>\n",
       "      <td>76.332</td>\n",
       "    </tr>\n",
       "    <tr>\n",
       "      <th>3</th>\n",
       "      <td>Can't Help Falling In Love</td>\n",
       "      <td>Kina Grannis</td>\n",
       "      <td>acoustic</td>\n",
       "      <td>6lfxq3CG4xtTiEg7opyCyx</td>\n",
       "      <td>71</td>\n",
       "      <td>0.266</td>\n",
       "      <td>0.0596</td>\n",
       "      <td>0</td>\n",
       "      <td>0.0363</td>\n",
       "      <td>0.9050</td>\n",
       "      <td>0.1320</td>\n",
       "      <td>181.740</td>\n",
       "    </tr>\n",
       "    <tr>\n",
       "      <th>4</th>\n",
       "      <td>Hold On</td>\n",
       "      <td>Chord Overstreet</td>\n",
       "      <td>acoustic</td>\n",
       "      <td>5vjLSffimiIP26QG5WcN2K</td>\n",
       "      <td>82</td>\n",
       "      <td>0.618</td>\n",
       "      <td>0.4430</td>\n",
       "      <td>2</td>\n",
       "      <td>0.0526</td>\n",
       "      <td>0.4690</td>\n",
       "      <td>0.0829</td>\n",
       "      <td>119.949</td>\n",
       "    </tr>\n",
       "  </tbody>\n",
       "</table>\n",
       "</div>"
      ],
      "text/plain": [
       "                   track_name                 artists track_genre  \\\n",
       "0                      Comedy             Gen Hoshino    acoustic   \n",
       "1            Ghost - Acoustic            Ben Woodward    acoustic   \n",
       "2              To Begin Again  Ingrid Michaelson;ZAYN    acoustic   \n",
       "3  Can't Help Falling In Love            Kina Grannis    acoustic   \n",
       "4                     Hold On        Chord Overstreet    acoustic   \n",
       "\n",
       "                 track_id  popularity  danceability  energy  key  speechiness  \\\n",
       "0  5SuOikwiRyPMVoIQDJUgSV          73         0.676  0.4610    1       0.1430   \n",
       "1  4qPNDBW1i3p13qLCt0Ki3A          55         0.420  0.1660    1       0.0763   \n",
       "2  1iJBSr7s7jYXzM8EGcbK5b          57         0.438  0.3590    0       0.0557   \n",
       "3  6lfxq3CG4xtTiEg7opyCyx          71         0.266  0.0596    0       0.0363   \n",
       "4  5vjLSffimiIP26QG5WcN2K          82         0.618  0.4430    2       0.0526   \n",
       "\n",
       "   acousticness  liveness    tempo  \n",
       "0        0.0322    0.3580   87.917  \n",
       "1        0.9240    0.1010   77.489  \n",
       "2        0.2100    0.1170   76.332  \n",
       "3        0.9050    0.1320  181.740  \n",
       "4        0.4690    0.0829  119.949  "
      ]
     },
     "execution_count": 24,
     "metadata": {},
     "output_type": "execute_result"
    }
   ],
   "source": [
    "# unnecessary columns TODO: Check Train Dataset for Columns or Features\n",
    "cols_to_drop = ['Unnamed: 0', 'album_name',\n",
    "                'loudness', 'explicit', 'time_signature',\n",
    "                'instrumentalness', 'duration_ms', 'mode', 'valence']\n",
    "\n",
    "dataset.drop(cols_to_drop, axis=1, inplace=True)\n",
    "\n",
    "# drop duplicates (tracks with the same track_id)\n",
    "# keep the first occurrence\n",
    "dataset.drop_duplicates(subset='track_id', keep='first', inplace=True)\n",
    "dataset.drop_duplicates(subset='track_name', keep='first', inplace=True)\n",
    "\n",
    "position_map = {\n",
    "    \"track_name\": 0,\n",
    "    \"artists\": 1,\n",
    "    \"track_genre\": 2,\n",
    "    \"track_id\": 3\n",
    "}\n",
    "\n",
    "# use position map to re-order important columns\n",
    "for attribute,position in position_map.items():\n",
    "    col_name = dataset[attribute]\n",
    "    dataset.drop(labels=[attribute], axis=1, inplace=True)\n",
    "    dataset.insert(position, attribute, col_name)\n",
    "\n",
    "\n",
    "# print first 5 rows\n",
    "dataset.head()"
   ]
  },
  {
   "cell_type": "markdown",
   "metadata": {},
   "source": [
    "## Principle Component Analysis (PCA)"
   ]
  },
  {
   "cell_type": "markdown",
   "metadata": {},
   "source": [
    "## Evalution Metrics"
   ]
  },
  {
   "cell_type": "markdown",
   "metadata": {},
   "source": [
    "\n",
    "## KMeans"
   ]
  },
  {
   "cell_type": "markdown",
   "metadata": {},
   "source": [
    "## Sort Dataset by Cluster & Distance-to-Cluster\n"
   ]
  },
  {
   "cell_type": "code",
   "execution_count": null,
   "metadata": {},
   "outputs": [],
   "source": [
    "# add a column to the dataset for the cluster number and distance from the centroid\n",
    "dataset['cluster'] = pred_y\n",
    "dataset['distance'] = kmeans.fit_transform(data_pca).min(axis=1)\n",
    "\n",
    "# sort the dataset by cluster and distance\n",
    "dataset = dataset.sort_values(by=['cluster', 'distance'])\n",
    "\n",
    "# print the first 10 rows\n",
    "dataset.head(10)\n"
   ]
  },
  {
   "cell_type": "markdown",
   "metadata": {},
   "source": [
    "# Song Recommendations"
   ]
  },
  {
   "cell_type": "code",
   "execution_count": null,
   "metadata": {},
   "outputs": [],
   "source": [
    "# search for song's full data using the track_id\n",
    "song_matches = dataset[dataset['track_id'] == track_id]\n",
    "\n",
    "# get the first occurrence\n",
    "full_given_song = song_matches.loc[song_matches.first_valid_index()]\n",
    "\n",
    "# save the numerical data in a separate variable\n",
    "given_song = full_given_song[4:].astype(float)\n",
    "\n",
    "# print the full given song data\n",
    "print(f\"DATA FROM: {track_name} by {track_artists_str}\")\n",
    "given_song"
   ]
  },
  {
   "cell_type": "markdown",
   "metadata": {},
   "source": [
    "## Initial Cluster Points & Filtering"
   ]
  },
  {
   "cell_type": "code",
   "execution_count": null,
   "metadata": {},
   "outputs": [],
   "source": [
    "# find the closest centroid\n",
    "\n",
    "# get the index of the closest centroid\n",
    "closest_centroid_idx = int(given_song['cluster'])\n",
    "\n",
    "# get the coordinates of the closest centroid\n",
    "closest_centroid = kmeans.cluster_centers_[closest_centroid_idx]\n",
    "\n",
    "# Find data points belonging to the closest cluster\n",
    "cluster_points = dataset.iloc[:, :][kmeans.labels_ == closest_centroid_idx]\n",
    "\n",
    "# Remove the given song from the closest cluster if it exists\n",
    "cluster_points = cluster_points[cluster_points['track_name'] != full_given_song['track_name']]\n",
    "\n",
    "# Only consider songs of the same genre\n",
    "# TODO: create clusters of genres that are similar and only from the that cluster\n",
    "cluster_points = cluster_points[cluster_points['track_genre'] == full_given_song['track_genre']]\n",
    "\n",
    "# print the amount of songs filtered\n",
    "print(cluster_points.shape)\n",
    "\n",
    "cluster_points.head(10)"
   ]
  }
 ],
 "metadata": {
  "kernelspec": {
   "display_name": "Python 3",
   "language": "python",
   "name": "python3"
  },
  "language_info": {
   "codemirror_mode": {
    "name": "ipython",
    "version": 3
   },
   "file_extension": ".py",
   "mimetype": "text/x-python",
   "name": "python",
   "nbconvert_exporter": "python",
   "pygments_lexer": "ipython3",
   "version": "3.11.3"
  }
 },
 "nbformat": 4,
 "nbformat_minor": 2
}
